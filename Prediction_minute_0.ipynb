{
 "cells": [
  {
   "cell_type": "code",
   "execution_count": 32,
   "metadata": {
    "pycharm": {
     "name": "#%%\n"
    }
   },
   "outputs": [
    {
     "data": {
      "text/html": "        <script type=\"text/javascript\">\n        window.PlotlyConfig = {MathJaxConfig: 'local'};\n        if (window.MathJax) {MathJax.Hub.Config({SVG: {font: \"STIX-Web\"}});}\n        if (typeof require !== 'undefined') {\n        require.undef(\"plotly\");\n        requirejs.config({\n            paths: {\n                'plotly': ['https://cdn.plot.ly/plotly-latest.min']\n            }\n        });\n        require(['plotly'], function(Plotly) {\n            window._Plotly = Plotly;\n        });\n        }\n        </script>\n        "
     },
     "metadata": {},
     "output_type": "display_data"
    }
   ],
   "source": [
    "from sklearn.model_selection import train_test_split, GridSearchCV\n",
    "from sklearn.metrics import accuracy_score, confusion_matrix\n",
    "from sklearn.pipeline import Pipeline\n",
    "from sklearn.preprocessing import StandardScaler\n",
    "from sklearn.linear_model import LogisticRegression\n",
    "from sklearn.ensemble import RandomForestClassifier\n",
    "from lightgbm import LGBMClassifier\n",
    "from sklearn.preprocessing import OneHotEncoder\n",
    "from sklearn.compose import ColumnTransformer\n",
    "from sklearn.preprocessing import LabelEncoder\n",
    "import seaborn as sns\n",
    "import matplotlib\n",
    "%matplotlib inline\n",
    "#\n",
    "import plotly.offline as py\n",
    "py.init_notebook_mode(connected=True)\n",
    "\n",
    "import warnings\n",
    "warnings.filterwarnings('ignore')\n",
    "\n",
    "import json\n",
    "import pickle\n",
    "import requests\n",
    "import pandas as pd\n",
    "import numpy as np\n",
    "import matplotlib.pyplot as plt\n",
    "import time\n",
    "from sklearn.model_selection import train_test_split, StratifiedKFold\n",
    "pd.set_option('max_columns', None)\n",
    "\n",
    "def save_obj(obj, name):\n",
    "    with open('./Data/' + name + '.pkl', 'wb') as f:\n",
    "        pickle.dump(obj, f, pickle.HIGHEST_PROTOCOL)\n",
    "\n",
    "def load_obj(name):\n",
    "    with open('./Data/' + name + '.pkl', 'rb') as f:\n",
    "        return pickle.load(f)\n",
    "\n",
    "\n",
    "\n"
   ]
  },
  {
   "cell_type": "code",
   "execution_count": null,
   "metadata": {
    "collapsed": false,
    "jupyter": {
     "outputs_hidden": false
    },
    "pycharm": {
     "name": "#%%\n",
     "is_executing": true
    }
   },
   "outputs": [],
   "source": [
    "data = load_obj('matchdata_19_20')"
   ]
  },
  {
   "cell_type": "code",
   "execution_count": 2,
   "metadata": {
    "collapsed": false,
    "jupyter": {
     "outputs_hidden": false
    },
    "pycharm": {
     "name": "#%%\n"
    }
   },
   "outputs": [
    {
     "ename": "NameError",
     "evalue": "name 'data' is not defined",
     "output_type": "error",
     "traceback": [
      "\u001B[1;31m---------------------------------------------------------------------------\u001B[0m",
      "\u001B[1;31mNameError\u001B[0m                                 Traceback (most recent call last)",
      "\u001B[1;32m<ipython-input-2-742d210d3814>\u001B[0m in \u001B[0;36m<module>\u001B[1;34m\u001B[0m\n\u001B[0;32m      1\u001B[0m \u001B[0mdf\u001B[0m \u001B[1;33m=\u001B[0m \u001B[0mpd\u001B[0m\u001B[1;33m.\u001B[0m\u001B[0mDataFrame\u001B[0m\u001B[1;33m(\u001B[0m\u001B[0mcolumns\u001B[0m\u001B[1;33m=\u001B[0m\u001B[1;33m[\u001B[0m\u001B[1;34m'match_id'\u001B[0m\u001B[1;33m,\u001B[0m\u001B[1;34m'game_len'\u001B[0m\u001B[1;33m,\u001B[0m\u001B[1;34m'radiant_win'\u001B[0m\u001B[1;33m,\u001B[0m\u001B[1;34m'radiant1_hero_id'\u001B[0m\u001B[1;33m,\u001B[0m\u001B[1;34m'radiant1_kills'\u001B[0m\u001B[1;33m,\u001B[0m\u001B[1;34m'radiant1_deaths'\u001B[0m\u001B[1;33m,\u001B[0m\u001B[1;34m'radiant1_assists'\u001B[0m\u001B[1;33m,\u001B[0m\u001B[1;34m'radiant1_denies'\u001B[0m\u001B[1;33m,\u001B[0m\u001B[1;34m'radiant1_gold'\u001B[0m\u001B[1;33m,\u001B[0m\u001B[1;34m'radiant1_lh'\u001B[0m\u001B[1;33m,\u001B[0m\u001B[1;34m'radiant1_xp'\u001B[0m\u001B[1;33m,\u001B[0m\u001B[1;34m'radiant1_level'\u001B[0m\u001B[1;33m,\u001B[0m\u001B[1;34m'radiant1_creeps_stacked'\u001B[0m\u001B[1;33m,\u001B[0m\u001B[1;34m'radiant1_camps_stacked'\u001B[0m\u001B[1;33m,\u001B[0m\u001B[1;34m'radiant1_rune_pickups'\u001B[0m\u001B[1;33m,\u001B[0m\u001B[1;34m'radiant1_firstblood_claimed'\u001B[0m\u001B[1;33m,\u001B[0m\u001B[1;34m'radiant1_towers_killed'\u001B[0m\u001B[1;33m,\u001B[0m\u001B[1;34m'radiant1_roshans_killed'\u001B[0m\u001B[1;33m,\u001B[0m\u001B[1;34m'radiant1_obs_placed'\u001B[0m\u001B[1;33m,\u001B[0m\u001B[1;34m'radiant1_sen_placed'\u001B[0m\u001B[1;33m,\u001B[0m\u001B[1;34m'radiant2_hero_id'\u001B[0m\u001B[1;33m,\u001B[0m\u001B[1;34m'radiant2_kills'\u001B[0m\u001B[1;33m,\u001B[0m\u001B[1;34m'radiant2_deaths'\u001B[0m\u001B[1;33m,\u001B[0m\u001B[1;34m'radiant2_assists'\u001B[0m\u001B[1;33m,\u001B[0m\u001B[1;34m'radiant2_denies'\u001B[0m\u001B[1;33m,\u001B[0m\u001B[1;34m'radiant2_gold'\u001B[0m\u001B[1;33m,\u001B[0m\u001B[1;34m'radiant2_lh'\u001B[0m\u001B[1;33m,\u001B[0m\u001B[1;34m'radiant2_xp'\u001B[0m\u001B[1;33m,\u001B[0m\u001B[1;34m'radiant2_level'\u001B[0m\u001B[1;33m,\u001B[0m\u001B[1;34m'radiant2_creeps_stacked'\u001B[0m\u001B[1;33m,\u001B[0m\u001B[1;34m'radiant2_camps_stacked'\u001B[0m\u001B[1;33m,\u001B[0m\u001B[1;34m'radiant2_rune_pickups'\u001B[0m\u001B[1;33m,\u001B[0m\u001B[1;34m'radiant2_firstblood_claimed'\u001B[0m\u001B[1;33m,\u001B[0m\u001B[1;34m'radiant2_towers_killed'\u001B[0m\u001B[1;33m,\u001B[0m\u001B[1;34m'radiant2_roshans_killed'\u001B[0m\u001B[1;33m,\u001B[0m\u001B[1;34m'radiant2_obs_placed'\u001B[0m\u001B[1;33m,\u001B[0m\u001B[1;34m'radiant2_sen_placed'\u001B[0m\u001B[1;33m,\u001B[0m\u001B[1;34m'radiant3_hero_id'\u001B[0m\u001B[1;33m,\u001B[0m\u001B[1;34m'radiant3_kills'\u001B[0m\u001B[1;33m,\u001B[0m\u001B[1;34m'radiant3_deaths'\u001B[0m\u001B[1;33m,\u001B[0m\u001B[1;34m'radiant3_assists'\u001B[0m\u001B[1;33m,\u001B[0m\u001B[1;34m'radiant3_denies'\u001B[0m\u001B[1;33m,\u001B[0m\u001B[1;34m'radiant3_gold'\u001B[0m\u001B[1;33m,\u001B[0m\u001B[1;34m'radiant3_lh'\u001B[0m\u001B[1;33m,\u001B[0m\u001B[1;34m'radiant3_xp'\u001B[0m\u001B[1;33m,\u001B[0m\u001B[1;34m'radiant3_level'\u001B[0m\u001B[1;33m,\u001B[0m\u001B[1;34m'radiant3_creeps_stacked'\u001B[0m\u001B[1;33m,\u001B[0m\u001B[1;34m'radiant3_camps_stacked'\u001B[0m\u001B[1;33m,\u001B[0m\u001B[1;34m'radiant3_rune_pickups'\u001B[0m\u001B[1;33m,\u001B[0m\u001B[1;34m'radiant3_firstblood_claimed'\u001B[0m\u001B[1;33m,\u001B[0m\u001B[1;34m'radiant3_towers_killed'\u001B[0m\u001B[1;33m,\u001B[0m\u001B[1;34m'radiant3_roshans_killed'\u001B[0m\u001B[1;33m,\u001B[0m\u001B[1;34m'radiant3_obs_placed'\u001B[0m\u001B[1;33m,\u001B[0m\u001B[1;34m'radiant3_sen_placed'\u001B[0m\u001B[1;33m,\u001B[0m\u001B[1;34m'radiant4_hero_id'\u001B[0m\u001B[1;33m,\u001B[0m\u001B[1;34m'radiant4_kills'\u001B[0m\u001B[1;33m,\u001B[0m\u001B[1;34m'radiant4_deaths'\u001B[0m\u001B[1;33m,\u001B[0m\u001B[1;34m'radiant4_assists'\u001B[0m\u001B[1;33m,\u001B[0m\u001B[1;34m'radiant4_denies'\u001B[0m\u001B[1;33m,\u001B[0m\u001B[1;34m'radiant4_gold'\u001B[0m\u001B[1;33m,\u001B[0m\u001B[1;34m'radiant4_lh'\u001B[0m\u001B[1;33m,\u001B[0m\u001B[1;34m'radiant4_xp'\u001B[0m\u001B[1;33m,\u001B[0m\u001B[1;34m'radiant4_level'\u001B[0m\u001B[1;33m,\u001B[0m\u001B[1;34m'radiant4_creeps_stacked'\u001B[0m\u001B[1;33m,\u001B[0m\u001B[1;34m'radiant4_camps_stacked'\u001B[0m\u001B[1;33m,\u001B[0m\u001B[1;34m'radiant4_rune_pickups'\u001B[0m\u001B[1;33m,\u001B[0m\u001B[1;34m'radiant4_firstblood_claimed'\u001B[0m\u001B[1;33m,\u001B[0m\u001B[1;34m'radiant4_towers_killed'\u001B[0m\u001B[1;33m,\u001B[0m\u001B[1;34m'radiant4_roshans_killed'\u001B[0m\u001B[1;33m,\u001B[0m\u001B[1;34m'radiant4_obs_placed'\u001B[0m\u001B[1;33m,\u001B[0m\u001B[1;34m'radiant4_sen_placed'\u001B[0m\u001B[1;33m,\u001B[0m\u001B[1;34m'radiant5_hero_id'\u001B[0m\u001B[1;33m,\u001B[0m\u001B[1;34m'radiant5_kills'\u001B[0m\u001B[1;33m,\u001B[0m\u001B[1;34m'radiant5_deaths'\u001B[0m\u001B[1;33m,\u001B[0m\u001B[1;34m'radiant5_assists'\u001B[0m\u001B[1;33m,\u001B[0m\u001B[1;34m'radiant5_denies'\u001B[0m\u001B[1;33m,\u001B[0m\u001B[1;34m'radiant5_gold'\u001B[0m\u001B[1;33m,\u001B[0m\u001B[1;34m'radiant5_lh'\u001B[0m\u001B[1;33m,\u001B[0m\u001B[1;34m'radiant5_xp'\u001B[0m\u001B[1;33m,\u001B[0m\u001B[1;34m'radiant5_level'\u001B[0m\u001B[1;33m,\u001B[0m\u001B[1;34m'radiant5_creeps_stacked'\u001B[0m\u001B[1;33m,\u001B[0m\u001B[1;34m'radiant5_camps_stacked'\u001B[0m\u001B[1;33m,\u001B[0m\u001B[1;34m'radiant5_rune_pickups'\u001B[0m\u001B[1;33m,\u001B[0m\u001B[1;34m'radiant5_firstblood_claimed'\u001B[0m\u001B[1;33m,\u001B[0m\u001B[1;34m'radiant5_towers_killed'\u001B[0m\u001B[1;33m,\u001B[0m\u001B[1;34m'radiant5_roshans_killed'\u001B[0m\u001B[1;33m,\u001B[0m\u001B[1;34m'radiant5_obs_placed'\u001B[0m\u001B[1;33m,\u001B[0m\u001B[1;34m'radiant5_sen_placed'\u001B[0m\u001B[1;33m,\u001B[0m\u001B[1;34m'dire1_hero_id'\u001B[0m\u001B[1;33m,\u001B[0m\u001B[1;34m'dire1_kills'\u001B[0m\u001B[1;33m,\u001B[0m\u001B[1;34m'dire1_deaths'\u001B[0m\u001B[1;33m,\u001B[0m\u001B[1;34m'dire1_assists'\u001B[0m\u001B[1;33m,\u001B[0m\u001B[1;34m'dire1_denies'\u001B[0m\u001B[1;33m,\u001B[0m\u001B[1;34m'dire1_gold'\u001B[0m\u001B[1;33m,\u001B[0m\u001B[1;34m'dire1_lh'\u001B[0m\u001B[1;33m,\u001B[0m\u001B[1;34m'dire1_xp'\u001B[0m\u001B[1;33m,\u001B[0m\u001B[1;34m'dire1_level'\u001B[0m\u001B[1;33m,\u001B[0m\u001B[1;34m'dire1_creeps_stacked'\u001B[0m\u001B[1;33m,\u001B[0m\u001B[1;34m'dire1_camps_stacked'\u001B[0m\u001B[1;33m,\u001B[0m\u001B[1;34m'dire1_rune_pickups'\u001B[0m\u001B[1;33m,\u001B[0m\u001B[1;34m'dire1_firstblood_claimed'\u001B[0m\u001B[1;33m,\u001B[0m\u001B[1;34m'dire1_towers_killed'\u001B[0m\u001B[1;33m,\u001B[0m\u001B[1;34m'dire1_roshans_killed'\u001B[0m\u001B[1;33m,\u001B[0m\u001B[1;34m'dire1_obs_placed'\u001B[0m\u001B[1;33m,\u001B[0m\u001B[1;34m'dire1_sen_placed'\u001B[0m\u001B[1;33m,\u001B[0m\u001B[1;34m'dire2_hero_id'\u001B[0m\u001B[1;33m,\u001B[0m\u001B[1;34m'dire2_kills'\u001B[0m\u001B[1;33m,\u001B[0m\u001B[1;34m'dire2_deaths'\u001B[0m\u001B[1;33m,\u001B[0m\u001B[1;34m'dire2_assists'\u001B[0m\u001B[1;33m,\u001B[0m\u001B[1;34m'dire2_denies'\u001B[0m\u001B[1;33m,\u001B[0m\u001B[1;34m'dire2_gold'\u001B[0m\u001B[1;33m,\u001B[0m\u001B[1;34m'dire2_lh'\u001B[0m\u001B[1;33m,\u001B[0m\u001B[1;34m'dire2_xp'\u001B[0m\u001B[1;33m,\u001B[0m\u001B[1;34m'dire2_level'\u001B[0m\u001B[1;33m,\u001B[0m\u001B[1;34m'dire2_creeps_stacked'\u001B[0m\u001B[1;33m,\u001B[0m\u001B[1;34m'dire2_camps_stacked'\u001B[0m\u001B[1;33m,\u001B[0m\u001B[1;34m'dire2_rune_pickups'\u001B[0m\u001B[1;33m,\u001B[0m\u001B[1;34m'dire2_firstblood_claimed'\u001B[0m\u001B[1;33m,\u001B[0m\u001B[1;34m'dire2_towers_killed'\u001B[0m\u001B[1;33m,\u001B[0m\u001B[1;34m'dire2_roshans_killed'\u001B[0m\u001B[1;33m,\u001B[0m\u001B[1;34m'dire2_obs_placed'\u001B[0m\u001B[1;33m,\u001B[0m\u001B[1;34m'dire2_sen_placed'\u001B[0m\u001B[1;33m,\u001B[0m\u001B[1;34m'dire3_hero_id'\u001B[0m\u001B[1;33m,\u001B[0m\u001B[1;34m'dire3_kills'\u001B[0m\u001B[1;33m,\u001B[0m\u001B[1;34m'dire3_deaths'\u001B[0m\u001B[1;33m,\u001B[0m\u001B[1;34m'dire3_assists'\u001B[0m\u001B[1;33m,\u001B[0m\u001B[1;34m'dire3_denies'\u001B[0m\u001B[1;33m,\u001B[0m\u001B[1;34m'dire3_gold'\u001B[0m\u001B[1;33m,\u001B[0m\u001B[1;34m'dire3_lh'\u001B[0m\u001B[1;33m,\u001B[0m\u001B[1;34m'dire3_xp'\u001B[0m\u001B[1;33m,\u001B[0m\u001B[1;34m'dire3_level'\u001B[0m\u001B[1;33m,\u001B[0m\u001B[1;34m'dire3_creeps_stacked'\u001B[0m\u001B[1;33m,\u001B[0m\u001B[1;34m'dire3_camps_stacked'\u001B[0m\u001B[1;33m,\u001B[0m\u001B[1;34m'dire3_rune_pickups'\u001B[0m\u001B[1;33m,\u001B[0m\u001B[1;34m'dire3_firstblood_claimed'\u001B[0m\u001B[1;33m,\u001B[0m\u001B[1;34m'dire3_towers_killed'\u001B[0m\u001B[1;33m,\u001B[0m\u001B[1;34m'dire3_roshans_killed'\u001B[0m\u001B[1;33m,\u001B[0m\u001B[1;34m'dire3_obs_placed'\u001B[0m\u001B[1;33m,\u001B[0m\u001B[1;34m'dire3_sen_placed'\u001B[0m\u001B[1;33m,\u001B[0m\u001B[1;34m'dire4_hero_id'\u001B[0m\u001B[1;33m,\u001B[0m\u001B[1;34m'dire4_kills'\u001B[0m\u001B[1;33m,\u001B[0m\u001B[1;34m'dire4_deaths'\u001B[0m\u001B[1;33m,\u001B[0m\u001B[1;34m'dire4_assists'\u001B[0m\u001B[1;33m,\u001B[0m\u001B[1;34m'dire4_denies'\u001B[0m\u001B[1;33m,\u001B[0m\u001B[1;34m'dire4_gold'\u001B[0m\u001B[1;33m,\u001B[0m\u001B[1;34m'dire4_lh'\u001B[0m\u001B[1;33m,\u001B[0m\u001B[1;34m'dire4_xp'\u001B[0m\u001B[1;33m,\u001B[0m\u001B[1;34m'dire4_level'\u001B[0m\u001B[1;33m,\u001B[0m\u001B[1;34m'dire4_creeps_stacked'\u001B[0m\u001B[1;33m,\u001B[0m\u001B[1;34m'dire4_camps_stacked'\u001B[0m\u001B[1;33m,\u001B[0m\u001B[1;34m'dire4_rune_pickups'\u001B[0m\u001B[1;33m,\u001B[0m\u001B[1;34m'dire4_firstblood_claimed'\u001B[0m\u001B[1;33m,\u001B[0m\u001B[1;34m'dire4_towers_killed'\u001B[0m\u001B[1;33m,\u001B[0m\u001B[1;34m'dire4_roshans_killed'\u001B[0m\u001B[1;33m,\u001B[0m\u001B[1;34m'dire4_obs_placed'\u001B[0m\u001B[1;33m,\u001B[0m\u001B[1;34m'dire4_sen_placed'\u001B[0m\u001B[1;33m,\u001B[0m\u001B[1;34m'dire5_hero_id'\u001B[0m\u001B[1;33m,\u001B[0m\u001B[1;34m'dire5_kills'\u001B[0m\u001B[1;33m,\u001B[0m\u001B[1;34m'dire5_deaths'\u001B[0m\u001B[1;33m,\u001B[0m\u001B[1;34m'dire5_assists'\u001B[0m\u001B[1;33m,\u001B[0m\u001B[1;34m'dire5_denies'\u001B[0m\u001B[1;33m,\u001B[0m\u001B[1;34m'dire5_gold'\u001B[0m\u001B[1;33m,\u001B[0m\u001B[1;34m'dire5_lh'\u001B[0m\u001B[1;33m,\u001B[0m\u001B[1;34m'dire5_xp'\u001B[0m\u001B[1;33m,\u001B[0m\u001B[1;34m'dire5_level'\u001B[0m\u001B[1;33m,\u001B[0m\u001B[1;34m'dire5_creeps_stacked'\u001B[0m\u001B[1;33m,\u001B[0m\u001B[1;34m'dire5_camps_stacked'\u001B[0m\u001B[1;33m,\u001B[0m\u001B[1;34m'dire5_rune_pickups'\u001B[0m\u001B[1;33m,\u001B[0m\u001B[1;34m'dire5_firstblood_claimed'\u001B[0m\u001B[1;33m,\u001B[0m\u001B[1;34m'dire5_towers_killed'\u001B[0m\u001B[1;33m,\u001B[0m\u001B[1;34m'dire5_roshans_killed'\u001B[0m\u001B[1;33m,\u001B[0m\u001B[1;34m'dire5_obs_placed'\u001B[0m\u001B[1;33m,\u001B[0m\u001B[1;34m'dire5_sen_placed'\u001B[0m\u001B[1;33m]\u001B[0m\u001B[1;33m)\u001B[0m\u001B[1;33m\u001B[0m\u001B[1;33m\u001B[0m\u001B[0m\n\u001B[1;32m----> 2\u001B[1;33m \u001B[1;32mfor\u001B[0m \u001B[0mmatch\u001B[0m \u001B[1;32min\u001B[0m \u001B[0mdata\u001B[0m\u001B[1;33m:\u001B[0m\u001B[1;33m\u001B[0m\u001B[1;33m\u001B[0m\u001B[0m\n\u001B[0m\u001B[0;32m      3\u001B[0m     \u001B[0mentry\u001B[0m\u001B[1;33m=\u001B[0m\u001B[1;33m[\u001B[0m\u001B[1;33m]\u001B[0m\u001B[1;33m\u001B[0m\u001B[1;33m\u001B[0m\u001B[0m\n\u001B[0;32m      4\u001B[0m     \u001B[0mentry\u001B[0m\u001B[1;33m.\u001B[0m\u001B[0mappend\u001B[0m\u001B[1;33m(\u001B[0m\u001B[0mmatch\u001B[0m\u001B[1;33m[\u001B[0m\u001B[1;34m\"match_id\"\u001B[0m\u001B[1;33m]\u001B[0m\u001B[1;33m)\u001B[0m\u001B[1;33m\u001B[0m\u001B[1;33m\u001B[0m\u001B[0m\n\u001B[0;32m      5\u001B[0m     \u001B[0mentry\u001B[0m\u001B[1;33m.\u001B[0m\u001B[0mappend\u001B[0m\u001B[1;33m(\u001B[0m\u001B[0mmatch\u001B[0m\u001B[1;33m[\u001B[0m\u001B[1;34m\"duration\"\u001B[0m\u001B[1;33m]\u001B[0m\u001B[1;33m)\u001B[0m\u001B[1;33m\u001B[0m\u001B[1;33m\u001B[0m\u001B[0m\n",
      "\u001B[1;31mNameError\u001B[0m: name 'data' is not defined"
     ]
    }
   ],
   "source": [
    "df = pd.DataFrame(columns=['match_id','game_len','radiant_win','radiant1_hero_id','radiant1_kills','radiant1_deaths','radiant1_assists','radiant1_denies','radiant1_gold','radiant1_lh','radiant1_xp','radiant1_level','radiant1_creeps_stacked','radiant1_camps_stacked','radiant1_rune_pickups','radiant1_firstblood_claimed','radiant1_towers_killed','radiant1_roshans_killed','radiant1_obs_placed','radiant1_sen_placed','radiant2_hero_id','radiant2_kills','radiant2_deaths','radiant2_assists','radiant2_denies','radiant2_gold','radiant2_lh','radiant2_xp','radiant2_level','radiant2_creeps_stacked','radiant2_camps_stacked','radiant2_rune_pickups','radiant2_firstblood_claimed','radiant2_towers_killed','radiant2_roshans_killed','radiant2_obs_placed','radiant2_sen_placed','radiant3_hero_id','radiant3_kills','radiant3_deaths','radiant3_assists','radiant3_denies','radiant3_gold','radiant3_lh','radiant3_xp','radiant3_level','radiant3_creeps_stacked','radiant3_camps_stacked','radiant3_rune_pickups','radiant3_firstblood_claimed','radiant3_towers_killed','radiant3_roshans_killed','radiant3_obs_placed','radiant3_sen_placed','radiant4_hero_id','radiant4_kills','radiant4_deaths','radiant4_assists','radiant4_denies','radiant4_gold','radiant4_lh','radiant4_xp','radiant4_level','radiant4_creeps_stacked','radiant4_camps_stacked','radiant4_rune_pickups','radiant4_firstblood_claimed','radiant4_towers_killed','radiant4_roshans_killed','radiant4_obs_placed','radiant4_sen_placed','radiant5_hero_id','radiant5_kills','radiant5_deaths','radiant5_assists','radiant5_denies','radiant5_gold','radiant5_lh','radiant5_xp','radiant5_level','radiant5_creeps_stacked','radiant5_camps_stacked','radiant5_rune_pickups','radiant5_firstblood_claimed','radiant5_towers_killed','radiant5_roshans_killed','radiant5_obs_placed','radiant5_sen_placed','dire1_hero_id','dire1_kills','dire1_deaths','dire1_assists','dire1_denies','dire1_gold','dire1_lh','dire1_xp','dire1_level','dire1_creeps_stacked','dire1_camps_stacked','dire1_rune_pickups','dire1_firstblood_claimed','dire1_towers_killed','dire1_roshans_killed','dire1_obs_placed','dire1_sen_placed','dire2_hero_id','dire2_kills','dire2_deaths','dire2_assists','dire2_denies','dire2_gold','dire2_lh','dire2_xp','dire2_level','dire2_creeps_stacked','dire2_camps_stacked','dire2_rune_pickups','dire2_firstblood_claimed','dire2_towers_killed','dire2_roshans_killed','dire2_obs_placed','dire2_sen_placed','dire3_hero_id','dire3_kills','dire3_deaths','dire3_assists','dire3_denies','dire3_gold','dire3_lh','dire3_xp','dire3_level','dire3_creeps_stacked','dire3_camps_stacked','dire3_rune_pickups','dire3_firstblood_claimed','dire3_towers_killed','dire3_roshans_killed','dire3_obs_placed','dire3_sen_placed','dire4_hero_id','dire4_kills','dire4_deaths','dire4_assists','dire4_denies','dire4_gold','dire4_lh','dire4_xp','dire4_level','dire4_creeps_stacked','dire4_camps_stacked','dire4_rune_pickups','dire4_firstblood_claimed','dire4_towers_killed','dire4_roshans_killed','dire4_obs_placed','dire4_sen_placed','dire5_hero_id','dire5_kills','dire5_deaths','dire5_assists','dire5_denies','dire5_gold','dire5_lh','dire5_xp','dire5_level','dire5_creeps_stacked','dire5_camps_stacked','dire5_rune_pickups','dire5_firstblood_claimed','dire5_towers_killed','dire5_roshans_killed','dire5_obs_placed','dire5_sen_placed'])\n",
    "for match in data:\n",
    "    entry=[]\n",
    "    entry.append(match[\"match_id\"])\n",
    "    entry.append(match[\"duration\"])\n",
    "    entry.append(match[\"radiant_win\"])\n",
    "    for player in match[\"players\"]:\n",
    "        entry.append(player['hero_id'])\n",
    "        entry.append(player['kills'])\n",
    "        entry.append(player['deaths'])\n",
    "        entry.append(player['assists'])\n",
    "        entry.append(player['denies'])\n",
    "        entry.append(player['gold_per_min'])\n",
    "        entry.append(player['last_hits'])\n",
    "        entry.append(player['xp_per_min'])\n",
    "        entry.append(player['level'])\n",
    "        entry.append(player['creeps_stacked'])\n",
    "        entry.append(player['camps_stacked'])\n",
    "        entry.append(player['rune_pickups'])\n",
    "        entry.append(player['firstblood_claimed'])\n",
    "        entry.append(player['towers_killed'])\n",
    "        entry.append(player['roshans_killed'])\n",
    "        entry.append(player['obs_placed'])\n",
    "        entry.append(player['sen_placed'])\n",
    "\n",
    "\n",
    "\n",
    "    df.loc[len(df)] = entry\n",
    "\n",
    "save_obj(df,\"cleaned_df_matchdata\")"
   ]
  },
  {
   "cell_type": "code",
   "execution_count": 3,
   "metadata": {
    "collapsed": false,
    "jupyter": {
     "outputs_hidden": false
    },
    "pycharm": {
     "name": "#%%\n"
    }
   },
   "outputs": [],
   "source": [
    "# Working DF\n",
    "\n",
    "df_loaded = load_obj(\"cleaned_df_matchdata\")"
   ]
  },
  {
   "cell_type": "code",
   "execution_count": 4,
   "metadata": {
    "collapsed": false,
    "jupyter": {
     "outputs_hidden": false
    },
    "pycharm": {
     "name": "#%%\n"
    }
   },
   "outputs": [],
   "source": [
    "df_heroes = df_loaded[['match_id','radiant_win','radiant1_hero_id','radiant2_hero_id','radiant3_hero_id','radiant4_hero_id','radiant5_hero_id','dire1_hero_id','dire2_hero_id','dire3_hero_id','dire4_hero_id','dire5_hero_id']]"
   ]
  },
  {
   "cell_type": "code",
   "execution_count": 5,
   "metadata": {
    "collapsed": false,
    "jupyter": {
     "outputs_hidden": false
    },
    "pycharm": {
     "name": "#%%\n"
    }
   },
   "outputs": [
    {
     "name": "stdout",
     "output_type": "stream",
     "text": [
      "Number of samples in cleaned df: 21402\n",
      "Number of columns in cleaned df: 10\n",
      "Number of samples in train: 17121\n",
      "Number of columns in train: 10\n",
      "Number of samples in test: 4281\n",
      "Number of columns in test: 10\n"
     ]
    }
   ],
   "source": [
    "df_heroes = df_heroes.astype('int64')\n",
    "df_cleaned = df_heroes.drop(columns=[\"radiant_win\"])\n",
    "df_targets = df_heroes[['match_id','radiant_win']]\n",
    "df_cleaned.set_index(\"match_id\", inplace = True)\n",
    "df_targets.set_index(\"match_id\", inplace = True)\n",
    "# df_cleaned.reset_index(level=0, inplace=True)\n",
    "\n",
    "print(f'Number of samples in cleaned df: {df_cleaned.shape[0]}')\n",
    "print(f'Number of columns in cleaned df: {df_cleaned.shape[1]}')\n",
    "\n",
    "for col in df_cleaned.columns:\n",
    "    if df_cleaned[col].isnull().any():\n",
    "        print(col, df_cleaned[col].isnull().sum())\n",
    "\n",
    "X = df_cleaned #.drop(columns=[\"radiant_win\",\"next_roshan_team\"])\n",
    "y = df_targets\n",
    "# X.reset_index(drop=True, inplace=True)\n",
    "# y.reset_index(drop=True, inplace=True)\n",
    "\n",
    "\n",
    "X_train, X_test, y_train, y_test = train_test_split(X,y,test_size=0.2, random_state=12)\n",
    "print(f'Number of samples in train: {X_train.shape[0]}')\n",
    "print(f'Number of columns in train: {X_train.shape[1]}')\n",
    "\n",
    "print(f'Number of samples in test: {X_test.shape[0]}')\n",
    "print(f'Number of columns in test: {X_test.shape[1]}')"
   ]
  },
  {
   "cell_type": "markdown",
   "metadata": {},
   "source": [
    "# Descriptive Analysis\n",
    "See Jupyter Notebook Descriptive Analysis\n",
    "\n",
    "\n",
    "\n",
    "\n",
    "\n"
   ]
  },
  {
   "cell_type": "markdown",
   "metadata": {},
   "source": [
    "**Test logistic regression**"
   ]
  },
  {
   "cell_type": "code",
   "execution_count": 23,
   "metadata": {
    "collapsed": false,
    "jupyter": {
     "outputs_hidden": false
    },
    "pycharm": {
     "name": "#%%\n"
    }
   },
   "outputs": [],
   "source": [
    "logit = LogisticRegression(C=1, solver='lbfgs', max_iter=500,\n",
    "                           random_state=17, n_jobs=4,\n",
    "                          multi_class='multinomial')\n",
    "logit_pipe = Pipeline([('scaler', StandardScaler()),\n",
    "                       ('logit', logit)])"
   ]
  },
  {
   "cell_type": "code",
   "execution_count": 25,
   "metadata": {
    "collapsed": false,
    "jupyter": {
     "outputs_hidden": false
    },
    "pycharm": {
     "name": "#%%\n"
    }
   },
   "outputs": [
    {
     "name": "stdout",
     "output_type": "stream",
     "text": [
      "Wall time: 2.12 s\n"
     ]
    },
    {
     "data": {
      "text/plain": "Pipeline(steps=[('scaler', StandardScaler()),\n                ('logit',\n                 LogisticRegression(C=1, max_iter=500,\n                                    multi_class='multinomial', n_jobs=4,\n                                    random_state=17))])"
     },
     "execution_count": 25,
     "metadata": {},
     "output_type": "execute_result"
    }
   ],
   "source": [
    "%%time\n",
    "logit_pipe.fit(X_train, y_train)\n",
    "# this may take a while..."
   ]
  },
  {
   "cell_type": "code",
   "execution_count": 26,
   "metadata": {
    "collapsed": false,
    "jupyter": {
     "outputs_hidden": false
    },
    "pycharm": {
     "name": "#%%\n"
    }
   },
   "outputs": [
    {
     "data": {
      "text/plain": "0.4973137117495912"
     },
     "execution_count": 26,
     "metadata": {},
     "output_type": "execute_result"
    }
   ],
   "source": [
    "logit_val_pred = logit_pipe.predict(X_test)\n",
    "accuracy_score(y_test, logit_val_pred)"
   ]
  },
  {
   "cell_type": "code",
   "execution_count": 27,
   "metadata": {
    "collapsed": false,
    "jupyter": {
     "outputs_hidden": false
    },
    "pycharm": {
     "name": "#%%\n"
    }
   },
   "outputs": [],
   "source": [
    "first_forest = RandomForestClassifier(\n",
    "    n_estimators=100, random_state=17, n_jobs=4)"
   ]
  },
  {
   "cell_type": "code",
   "execution_count": 28,
   "metadata": {
    "collapsed": false,
    "jupyter": {
     "outputs_hidden": false
    },
    "pycharm": {
     "name": "#%%\n"
    }
   },
   "outputs": [
    {
     "name": "stdout",
     "output_type": "stream",
     "text": [
      "Wall time: 2.15 s\n"
     ]
    },
    {
     "data": {
      "text/plain": "RandomForestClassifier(n_jobs=4, random_state=17)"
     },
     "execution_count": 28,
     "metadata": {},
     "output_type": "execute_result"
    }
   ],
   "source": [
    "%%time\n",
    "first_forest.fit(X_train, y_train)\n",
    "# this may take a while... (17ss)"
   ]
  },
  {
   "cell_type": "code",
   "execution_count": 29,
   "metadata": {
    "collapsed": false,
    "jupyter": {
     "outputs_hidden": false
    },
    "pycharm": {
     "name": "#%%\n"
    }
   },
   "outputs": [
    {
     "data": {
      "text/plain": "0.5052557813594954"
     },
     "execution_count": 29,
     "metadata": {},
     "output_type": "execute_result"
    }
   ],
   "source": [
    "forest_val_pred = first_forest.predict(X_test)\n",
    "accuracy_score(y_test, forest_val_pred)"
   ]
  },
  {
   "cell_type": "code",
   "execution_count": 30,
   "metadata": {
    "collapsed": false,
    "jupyter": {
     "outputs_hidden": false
    },
    "pycharm": {
     "name": "#%%\n"
    }
   },
   "outputs": [
    {
     "data": {
      "text/plain": "                  Importance\nradiant2_hero_id    0.101562\nradiant5_hero_id    0.101125\ndire2_hero_id       0.101113\ndire1_hero_id       0.101100\ndire3_hero_id       0.100680\nradiant3_hero_id    0.100051\ndire4_hero_id       0.099588\nradiant1_hero_id    0.098566\ndire5_hero_id       0.098353\nradiant4_hero_id    0.097862",
      "text/html": "<div>\n<style scoped>\n    .dataframe tbody tr th:only-of-type {\n        vertical-align: middle;\n    }\n\n    .dataframe tbody tr th {\n        vertical-align: top;\n    }\n\n    .dataframe thead th {\n        text-align: right;\n    }\n</style>\n<table border=\"1\" class=\"dataframe\">\n  <thead>\n    <tr style=\"text-align: right;\">\n      <th></th>\n      <th>Importance</th>\n    </tr>\n  </thead>\n  <tbody>\n    <tr>\n      <th>radiant2_hero_id</th>\n      <td>0.101562</td>\n    </tr>\n    <tr>\n      <th>radiant5_hero_id</th>\n      <td>0.101125</td>\n    </tr>\n    <tr>\n      <th>dire2_hero_id</th>\n      <td>0.101113</td>\n    </tr>\n    <tr>\n      <th>dire1_hero_id</th>\n      <td>0.101100</td>\n    </tr>\n    <tr>\n      <th>dire3_hero_id</th>\n      <td>0.100680</td>\n    </tr>\n    <tr>\n      <th>radiant3_hero_id</th>\n      <td>0.100051</td>\n    </tr>\n    <tr>\n      <th>dire4_hero_id</th>\n      <td>0.099588</td>\n    </tr>\n    <tr>\n      <th>radiant1_hero_id</th>\n      <td>0.098566</td>\n    </tr>\n    <tr>\n      <th>dire5_hero_id</th>\n      <td>0.098353</td>\n    </tr>\n    <tr>\n      <th>radiant4_hero_id</th>\n      <td>0.097862</td>\n    </tr>\n  </tbody>\n</table>\n</div>"
     },
     "execution_count": 30,
     "metadata": {},
     "output_type": "execute_result"
    }
   ],
   "source": [
    "pd.DataFrame(first_forest.feature_importances_,\n",
    "             index=X_train.columns, columns=['Importance']).sort_values(\n",
    "    by='Importance', ascending=False)[:10]"
   ]
  },
  {
   "cell_type": "code",
   "execution_count": 33,
   "metadata": {
    "collapsed": false,
    "jupyter": {
     "outputs_hidden": false
    },
    "pycharm": {
     "name": "#%%\n"
    }
   },
   "outputs": [],
   "source": [
    "lgb_clf = LGBMClassifier(random_state=17)"
   ]
  },
  {
   "cell_type": "code",
   "execution_count": 34,
   "metadata": {
    "collapsed": false,
    "jupyter": {
     "outputs_hidden": false
    },
    "pycharm": {
     "name": "#%%\n"
    }
   },
   "outputs": [
    {
     "name": "stdout",
     "output_type": "stream",
     "text": [
      "Wall time: 278 ms\n"
     ]
    },
    {
     "data": {
      "text/plain": "LGBMClassifier(random_state=17)"
     },
     "execution_count": 34,
     "metadata": {},
     "output_type": "execute_result"
    }
   ],
   "source": [
    "%%time\n",
    "lgb_clf.fit(X_train, y_train)"
   ]
  },
  {
   "cell_type": "code",
   "execution_count": 36,
   "metadata": {
    "collapsed": false,
    "jupyter": {
     "outputs_hidden": false
    },
    "pycharm": {
     "name": "#%%\n"
    }
   },
   "outputs": [
    {
     "data": {
      "text/plain": "0.5122634898388227"
     },
     "execution_count": 36,
     "metadata": {},
     "output_type": "execute_result"
    }
   ],
   "source": [
    "accuracy_score(y_test, lgb_clf.predict(X_test))"
   ]
  },
  {
   "cell_type": "markdown",
   "metadata": {},
   "source": [
    "**1 stage of hyper-param tuning: tuning model complexity**"
   ]
  },
  {
   "cell_type": "code",
   "execution_count": 37,
   "metadata": {
    "collapsed": false,
    "jupyter": {
     "outputs_hidden": false
    },
    "pycharm": {
     "name": "#%%\n"
    }
   },
   "outputs": [],
   "source": [
    "param_grid = {'num_leaves': [7, 15, 31, 63],\n",
    "              'max_depth': [3, 4, 5, 6, -1]}"
   ]
  },
  {
   "cell_type": "code",
   "execution_count": 38,
   "metadata": {
    "collapsed": false,
    "jupyter": {
     "outputs_hidden": false
    },
    "pycharm": {
     "name": "#%%\n"
    }
   },
   "outputs": [],
   "source": [
    "grid_searcher = GridSearchCV(estimator=lgb_clf, param_grid=param_grid,\n",
    "                             cv=5, verbose=1, n_jobs=4)"
   ]
  },
  {
   "cell_type": "code",
   "execution_count": 39,
   "metadata": {
    "collapsed": false,
    "jupyter": {
     "outputs_hidden": false
    },
    "pycharm": {
     "name": "#%%\n"
    }
   },
   "outputs": [
    {
     "name": "stdout",
     "output_type": "stream",
     "text": [
      "Fitting 5 folds for each of 20 candidates, totalling 100 fits\n"
     ]
    },
    {
     "name": "stderr",
     "output_type": "stream",
     "text": [
      "[Parallel(n_jobs=4)]: Using backend LokyBackend with 4 concurrent workers.\n",
      "[Parallel(n_jobs=4)]: Done  42 tasks      | elapsed:    4.1s\n",
      "[Parallel(n_jobs=4)]: Done 100 out of 100 | elapsed:    8.8s finished\n"
     ]
    },
    {
     "data": {
      "text/plain": "GridSearchCV(cv=5, estimator=LGBMClassifier(random_state=17), n_jobs=4,\n             param_grid={'max_depth': [3, 4, 5, 6, -1],\n                         'num_leaves': [7, 15, 31, 63]},\n             verbose=1)"
     },
     "execution_count": 39,
     "metadata": {},
     "output_type": "execute_result"
    }
   ],
   "source": [
    "grid_searcher.fit(X_train, y_train) # This may take a while!"
   ]
  },
  {
   "cell_type": "code",
   "execution_count": 40,
   "metadata": {
    "collapsed": false,
    "jupyter": {
     "outputs_hidden": false
    },
    "pycharm": {
     "name": "#%%\n"
    }
   },
   "outputs": [
    {
     "data": {
      "text/plain": "({'max_depth': 5, 'num_leaves': 15}, 0.5110094651749778)"
     },
     "execution_count": 40,
     "metadata": {},
     "output_type": "execute_result"
    }
   ],
   "source": [
    "grid_searcher.best_params_, grid_searcher.best_score_"
   ]
  },
  {
   "cell_type": "code",
   "execution_count": 41,
   "metadata": {
    "collapsed": false,
    "jupyter": {
     "outputs_hidden": false
    },
    "pycharm": {
     "name": "#%%\n"
    }
   },
   "outputs": [
    {
     "data": {
      "text/plain": "0.5190376080355057"
     },
     "execution_count": 41,
     "metadata": {},
     "output_type": "execute_result"
    }
   ],
   "source": [
    "accuracy_score(y_test, grid_searcher.predict(X_test))"
   ]
  },
  {
   "cell_type": "markdown",
   "metadata": {},
   "source": [
    "**2 stage of hyper-param tuning: convergence:**"
   ]
  },
  {
   "cell_type": "code",
   "execution_count": 43,
   "metadata": {
    "collapsed": false,
    "jupyter": {
     "outputs_hidden": false
    },
    "pycharm": {
     "name": "#%%\n"
    }
   },
   "outputs": [
    {
     "name": "stdout",
     "output_type": "stream",
     "text": [
      "Fitting 5 folds for each of 10 candidates, totalling 50 fits\n",
      "{'learning_rate': 0.046415888336127774} 0.5101333992768946\n",
      "0.5220742817098809\n"
     ]
    },
    {
     "name": "stderr",
     "output_type": "stream",
     "text": [
      "[Parallel(n_jobs=4)]: Using backend LokyBackend with 4 concurrent workers.\n",
      "[Parallel(n_jobs=4)]: Done  42 tasks      | elapsed:    6.3s\n",
      "[Parallel(n_jobs=4)]: Done  50 out of  50 | elapsed:    7.4s finished\n"
     ]
    }
   ],
   "source": [
    "# This may take a while\n",
    "num_iterations = 200\n",
    "lgb_clf2 = LGBMClassifier(random_state=17, max_depth=5,\n",
    "                          num_leaves=15, n_estimators=num_iterations,\n",
    "                          n_jobs=1)\n",
    "\n",
    "param_grid2 = {'learning_rate': np.logspace(-3, 0, 10)}\n",
    "grid_searcher2 = GridSearchCV(estimator=lgb_clf2, param_grid=param_grid2,\n",
    "                               cv=5, verbose=1, n_jobs=4)\n",
    "grid_searcher2.fit(X_train, y_train)\n",
    "print(grid_searcher2.best_params_, grid_searcher2.best_score_)\n",
    "print(accuracy_score(y_test, grid_searcher2.predict(X_test)))\n",
    "# This may take very long !!"
   ]
  },
  {
   "cell_type": "code",
   "execution_count": 47,
   "metadata": {
    "collapsed": false,
    "jupyter": {
     "outputs_hidden": false
    },
    "pycharm": {
     "name": "#%%\n"
    }
   },
   "outputs": [],
   "source": [
    "final_lgb = LGBMClassifier(n_estimators=200, num_leaves=15,\n",
    "                           learning_rate=0.05, max_depth=5,\n",
    "                         n_jobs=4)\n"
   ]
  },
  {
   "cell_type": "code",
   "execution_count": 48,
   "metadata": {
    "collapsed": false,
    "jupyter": {
     "outputs_hidden": false
    },
    "pycharm": {
     "name": "#%%\n"
    }
   },
   "outputs": [
    {
     "name": "stdout",
     "output_type": "stream",
     "text": [
      "Wall time: 256 ms\n"
     ]
    },
    {
     "data": {
      "text/plain": "LGBMClassifier(learning_rate=0.05, max_depth=5, n_estimators=200, n_jobs=4,\n               num_leaves=15)"
     },
     "execution_count": 48,
     "metadata": {},
     "output_type": "execute_result"
    }
   ],
   "source": [
    "%%time\n",
    "final_lgb.fit(X_train, y_train)\n",
    "# This may take some time"
   ]
  },
  {
   "cell_type": "code",
   "execution_count": 49,
   "metadata": {
    "collapsed": false,
    "jupyter": {
     "outputs_hidden": false
    },
    "pycharm": {
     "name": "#%%\n"
    }
   },
   "outputs": [
    {
     "name": "stdout",
     "output_type": "stream",
     "text": [
      "Wall time: 41.9 ms\n"
     ]
    }
   ],
   "source": [
    "%%time\n",
    "lgb_final_pred = final_lgb.predict(X_test)"
   ]
  },
  {
   "cell_type": "code",
   "execution_count": 50,
   "metadata": {
    "collapsed": false,
    "jupyter": {
     "outputs_hidden": false
    },
    "pycharm": {
     "name": "#%%\n"
    }
   },
   "outputs": [
    {
     "name": "stdout",
     "output_type": "stream",
     "text": [
      "0.5202055594487269\n"
     ]
    }
   ],
   "source": [
    "print(accuracy_score(y_test, lgb_final_pred))"
   ]
  },
  {
   "cell_type": "markdown",
   "source": [
    "## Interpretation\n",
    "Predicting the winner team solely based on the heros picked is quite difficult.\n",
    "Our best prediction is 52 % which is only 2 % better than \"luck\".\n",
    "Interesting for a future project would be to do a prediction every 5 minutes of the game.\n",
    "In this small project we didn't quite see the results we hoped for, but it shows how important the work with live sports data is in the field of sports data analytics.\n",
    "\n"
   ],
   "metadata": {
    "collapsed": false,
    "pycharm": {
     "name": "#%% md\n"
    }
   }
  }
 ],
 "metadata": {
  "kernelspec": {
   "name": "prediction",
   "language": "python",
   "display_name": "prediction"
  },
  "language_info": {
   "codemirror_mode": {
    "name": "ipython",
    "version": 3
   },
   "file_extension": ".py",
   "mimetype": "text/x-python",
   "name": "python",
   "nbconvert_exporter": "python",
   "pygments_lexer": "ipython3",
   "version": "3.8.6"
  }
 },
 "nbformat": 4,
 "nbformat_minor": 4
}