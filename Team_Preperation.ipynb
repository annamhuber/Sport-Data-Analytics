{
 "cells": [
  {
   "cell_type": "markdown",
   "id": "correct-fishing",
   "metadata": {},
   "source": [
    "# Scenario\n",
    "We imagine we are the analysts for a Dota 2 team called \"Team Secret\". "
   ]
  },
  {
   "cell_type": "code",
   "execution_count": 114,
   "id": "proved-western",
   "metadata": {
    "jupyter": {
     "source_hidden": true
    }
   },
   "outputs": [],
   "source": [
    "import ipywidgets as widgets\n",
    "import pickle\n",
    "import pandas as pd\n",
    "from IPython.display import clear_output\n",
    "\n",
    "class DotaTeam:\n",
    "    def __init__(self,team_id,name):\n",
    "        self.team_id = team_id\n",
    "        self.name = name\n",
    "    def __str__(self):\n",
    "        return str(self.__dict__)\n",
    "    def __repr__(self):\n",
    "        return str(self)\n",
    "    def toJSON(self):\n",
    "        return json.dumps(self, default=lambda o: o.__dict__,\n",
    "            sort_keys=True, indent=4)\n",
    "\n",
    "def load_obj(name):\n",
    "    with open('./Data/' + name + '.pkl', 'rb') as f:\n",
    "        return pickle.load(f)\n"
   ]
  },
  {
   "cell_type": "code",
   "execution_count": null,
   "id": "closed-tulsa",
   "metadata": {
    "jupyter": {
     "source_hidden": true
    }
   },
   "outputs": [],
   "source": [
    "# Load data from Data_Collection\n",
    "data = load_obj('matchdata_19_20')"
   ]
  },
  {
   "cell_type": "code",
   "execution_count": 101,
   "id": "hourly-smile",
   "metadata": {},
   "outputs": [],
   "source": [
    "# Load heroes meta data\n",
    "df_hero_list = pd.read_json('Data/heroes.json').T\n",
    "df_hero_list = df_hero_list[['id','localized_name']]\n",
    "df_hero_list.set_index(\"id\", inplace = True)"
   ]
  },
  {
   "cell_type": "code",
   "execution_count": 30,
   "id": "facial-spanking",
   "metadata": {
    "jupyter": {
     "source_hidden": true
    }
   },
   "outputs": [],
   "source": [
    "teams_list = []\n",
    "\n",
    "for match in data:\n",
    "    if 'radiant_team' in match:\n",
    "        if match['radiant_team']['name'] != '':\n",
    "            if not any(team.team_id == match['radiant_team']['team_id'] for team in teams_list):\n",
    "                teams_list.append(DotaTeam(match['radiant_team']['team_id'], match['radiant_team']['name']))\n",
    "    if 'dire_team' in match:\n",
    "        if match['dire_team']['name'] != '':\n",
    "            if not any(team.team_id == match['dire_team']['team_id'] for team in teams_list):\n",
    "                teams_list.append(DotaTeam(match['dire_team']['team_id'], match['dire_team']['name']))"
   ]
  },
  {
   "cell_type": "code",
   "execution_count": 33,
   "id": "mobile-formation",
   "metadata": {
    "jupyter": {
     "source_hidden": true
    }
   },
   "outputs": [
    {
     "name": "stdout",
     "output_type": "stream",
     "text": [
      "Number of unique teams:  2011\n"
     ]
    }
   ],
   "source": [
    "print('Number of unique teams: ', len(teams_list))"
   ]
  },
  {
   "cell_type": "code",
   "execution_count": 158,
   "id": "urban-snake",
   "metadata": {},
   "outputs": [],
   "source": [
    "def on_button_clicked(b):\n",
    "    with output:\n",
    "        clear_output(wait=True)\n",
    "        # General information about own team\n",
    "        team_secret_matches = []\n",
    "        for match in data:\n",
    "            if 'radiant_team' in match:\n",
    "                if match['radiant_team']['team_id'] == 1838315:\n",
    "                    team_secret_matches.append(match)\n",
    "            if 'dire_team' in match:\n",
    "                if match['dire_team']['team_id'] == 1838315:\n",
    "                    team_secret_matches.append(match)\n",
    "\n",
    "        # Calculate key values\n",
    "        team_secret_picked_heroes = []\n",
    "        team_secret_banned_heroes = []\n",
    "        team_secret_mean_match_time = 0\n",
    "\n",
    "        for match in team_secret_matches:\n",
    "            team_secret_mean_match_time += match['duration']\n",
    "            # If they are or radiant\n",
    "            if 'radiant_team' in match:\n",
    "                if match['radiant_team']['team_id'] == 1838315 and match['picks_bans'] is not None:\n",
    "                    for pick_ban in match['picks_bans']:\n",
    "                        # Add to picked heroes\n",
    "                        if pick_ban['is_pick']:\n",
    "                            if pick_ban['team'] == 0:\n",
    "                                team_secret_picked_heroes.append(pick_ban['hero_id'])\n",
    "                        # Add to banned heroes\n",
    "                        else:\n",
    "                            if pick_ban['team'] == 0:\n",
    "                                team_secret_banned_heroes.append(pick_ban['hero_id'])\n",
    "            # If they are or dire\n",
    "            if 'dire_team' in match:\n",
    "                if match['dire_team']['team_id'] == 1838315 and match['picks_bans'] is not None:\n",
    "                    for pick_ban in match['picks_bans']:\n",
    "                        # Add to picked heroes\n",
    "                        if pick_ban['is_pick']:\n",
    "                            if pick_ban['team'] == 1:\n",
    "                                team_secret_picked_heroes.append(pick_ban['hero_id'])\n",
    "                        # Add to banned heroes            \n",
    "                        else:\n",
    "                            if pick_ban['team'] == 1:\n",
    "                                team_secret_banned_heroes.append(pick_ban['hero_id'])\n",
    "\n",
    "        # Average game length\n",
    "        team_secret_mean_match_time = team_secret_mean_match_time/len(team_secret_matches)\n",
    "\n",
    "\n",
    "        df_secret_picked_heroes = pd.DataFrame(team_secret_picked_heroes)\n",
    "        secret_picks = df_secret_picked_heroes[0].value_counts()\n",
    "\n",
    "        df_secret_banned_heroes = pd.DataFrame(team_secret_banned_heroes)\n",
    "        secret_bans = df_secret_banned_heroes[0].value_counts()\n",
    "\n",
    "        temp = df_hero_list.join(secret_picks, how = \"outer\")\n",
    "        temp.columns = ['Hero Name', 'Number Picks']\n",
    "\n",
    "        secret_heroes = temp.join(secret_bans, how = \"outer\")\n",
    "        secret_heroes.columns = ['Hero Name', 'Number Picks', 'Number Bans']\n",
    "\n",
    "        secret_heroes.fillna(0)\n",
    "        \n",
    "        secret_heroes_picked_sorted = secret_heroes.sort_values(by=['Number Picks'])\n",
    "        secret_picked_smallest = secret_heroes_picked_sorted.nsmallest(10, 'Number Picks')\n",
    "        secret_picked_greatest = secret_heroes_picked_sorted.nlargest(10, 'Number Picks')\n",
    "        \n",
    "        \n",
    "        print('************** Team Secret Matchdata ************** \\n')\n",
    "        print('Most picked heroes:')\n",
    "        print(secret_picked_greatest[['Hero Name', 'Number Picks']].to_string(index=False))\n",
    "        print('\\n Least picked heroes:')\n",
    "        print(secret_picked_smallest[['Hero Name', 'Number Picks']].to_string(index=False))\n",
    "        print('Our mean game time in minutes: ', round(team_secret_mean_match_time/60, 1))\n",
    "                \n",
    "        # Analyze opponent\n",
    "        team_to_analyze = 0\n",
    "\n",
    "        for team in teams_list:\n",
    "            if team.name == team_to_analyze_input.value:\n",
    "                team_to_analyze = team.team_id\n",
    "        if team_to_analyze == 0:\n",
    "            print('Team not found!')\n",
    "\n",
    "        # Filter opponent matches\n",
    "        opponent_matches = []\n",
    "\n",
    "        for match in data:\n",
    "            if 'radiant_team' in match:\n",
    "                if match['radiant_team']['team_id'] == team_to_analyze:\n",
    "                    opponent_matches.append(match)\n",
    "            if 'dire_team' in match:\n",
    "                if match['dire_team']['team_id'] == team_to_analyze:\n",
    "                    opponent_matches.append(match)\n",
    "\n",
    "        # Calculate key values\n",
    "        opponent_picked_heroes = []\n",
    "        opponent_banned_heroes = []\n",
    "        opponent_mean_match_time = 0\n",
    "\n",
    "        for match in opponent_matches:\n",
    "            opponent_mean_match_time += match['duration']\n",
    "            # If they are or radiant\n",
    "            if 'radiant_team' in match:\n",
    "                if match['radiant_team']['team_id'] == team_to_analyze and match['picks_bans'] is not None:\n",
    "                    for pick_ban in match['picks_bans']:\n",
    "                        # Add to picked heroes\n",
    "                        if pick_ban['is_pick']:\n",
    "                            if pick_ban['team'] == 0:\n",
    "                                opponent_picked_heroes.append(pick_ban['hero_id'])\n",
    "                        # Add to banned heroes\n",
    "                        else:\n",
    "                            if pick_ban['team'] == 0:\n",
    "                                opponent_banned_heroes.append(pick_ban['hero_id'])\n",
    "            # If they are or dire\n",
    "            if 'dire_team' in match:\n",
    "                if match['dire_team']['team_id'] == team_to_analyze and match['picks_bans'] is not None:\n",
    "                    for pick_ban in match['picks_bans']:\n",
    "                        # Add to picked heroes\n",
    "                        if pick_ban['is_pick']:\n",
    "                            if pick_ban['team'] == 1:\n",
    "                                opponent_picked_heroes.append(pick_ban['hero_id'])\n",
    "                        # Add to banned heroes            \n",
    "                        else:\n",
    "                            if pick_ban['team'] == 1:\n",
    "                                opponent_banned_heroes.append(pick_ban['hero_id'])\n",
    "\n",
    "        if len(opponent_matches) != 0 :\n",
    "            opponent_mean_match_time = opponent_mean_match_time/len(opponent_matches)\n",
    "            \n",
    "            \n",
    "button = widgets.Button(description=\"Analyze!\")\n",
    "output = widgets.Output()\n",
    "\n",
    "\n",
    "button.on_click(on_button_clicked)"
   ]
  },
  {
   "cell_type": "code",
   "execution_count": 132,
   "id": "opened-sight",
   "metadata": {
    "jupyter": {
     "source_hidden": true
    }
   },
   "outputs": [],
   "source": [
    "team_to_analyze_input = widgets.Text(\n",
    "    value='Nigmas',\n",
    "    placeholder='Type something',\n",
    "    description='Opponent:',\n",
    "    disabled=False\n",
    ")"
   ]
  },
  {
   "cell_type": "code",
   "execution_count": 159,
   "id": "consistent-establishment",
   "metadata": {},
   "outputs": [
    {
     "data": {
      "application/vnd.jupyter.widget-view+json": {
       "model_id": "2ac0fad8084c4d13872aa264b0d29927",
       "version_major": 2,
       "version_minor": 0
      },
      "text/plain": [
       "Text(value='Nigma', description='Opponent:', placeholder='Type something')"
      ]
     },
     "metadata": {},
     "output_type": "display_data"
    },
    {
     "data": {
      "application/vnd.jupyter.widget-view+json": {
       "model_id": "5fdd8e5fb7354d1488faac6a5ccc282b",
       "version_major": 2,
       "version_minor": 0
      },
      "text/plain": [
       "Button(description='Click Me!', style=ButtonStyle())"
      ]
     },
     "metadata": {},
     "output_type": "display_data"
    },
    {
     "data": {
      "application/vnd.jupyter.widget-view+json": {
       "model_id": "f94700cdfb224b849acf54c92c983e3f",
       "version_major": 2,
       "version_minor": 0
      },
      "text/plain": [
       "Output()"
      ]
     },
     "metadata": {},
     "output_type": "display_data"
    }
   ],
   "source": [
    "display(team_to_analyze_input)\n",
    "\n",
    "display(button, output)\n"
   ]
  }
 ],
 "metadata": {
  "kernelspec": {
   "display_name": "Python 3",
   "language": "python",
   "name": "python3"
  },
  "language_info": {
   "codemirror_mode": {
    "name": "ipython",
    "version": 3
   },
   "file_extension": ".py",
   "mimetype": "text/x-python",
   "name": "python",
   "nbconvert_exporter": "python",
   "pygments_lexer": "ipython3",
   "version": "3.8.6"
  }
 },
 "nbformat": 4,
 "nbformat_minor": 5
}
