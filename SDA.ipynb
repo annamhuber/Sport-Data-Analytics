{
 "cells": [
  {
   "cell_type": "code",
   "execution_count": 51,
   "id": "technical-cleaner",
   "metadata": {},
   "outputs": [],
   "source": [
    "import copy\n",
    "import json\n",
    "import pickle\n",
    "import requests\n",
    "import pandas as pd\n",
    "import numpy as np\n",
    "from pandas import json_normalize\n",
    "from io import StringIO\n",
    "import math\n",
    "import time\n",
    "\n",
    "url_all_matches_TI19 = 'https://api.opendota.com/api/explorer?sql=SELECT%0A%20%20%20%20%20%20%20%20%0Amatches.match_id%2C%0Amatches.start_time%2C%0A((player_matches.player_slot%20%3C%20128)%20%3D%20matches.radiant_win)%20win%2C%0Aplayer_matches.hero_id%2C%0Aplayer_matches.account_id%2C%0Aleagues.name%20leaguename%0AFROM%20matches%0AJOIN%20match_patch%20using(match_id)%0AJOIN%20leagues%20using(leagueid)%0AJOIN%20player_matches%20using(match_id)%0AJOIN%20heroes%20on%20heroes.id%20%3D%20player_matches.hero_id%0ALEFT%20JOIN%20notable_players%20ON%20notable_players.account_id%20%3D%20player_matches.account_id%0ALEFT%20JOIN%20teams%20using(team_id)%0AWHERE%20TRUE%0AAND%20(matches.leagueid%20%3D%2010749)%0AAND%20matches.start_time%20%3E%3D%20extract(epoch%20from%20timestamp%20%272018-08-06T22%3A00%3A00.000Z%27)%0AORDER%20BY%20matches.match_id%20NULLS%20LAST%0ALIMIT%2010000'\n",
    "url_base_match = 'https://api.opendota.com/api/matches/'\n",
    "\n",
    "class DotaTeam:\n",
    "    def __init__(self,name,wins,losses,winrate,skill,real,luck):\n",
    "        self.name = name\n",
    "        self.wins = wins\n",
    "        self.losses = losses\n",
    "        self.winrate = winrate\n",
    "        self.skill = skill\n",
    "        self.real = real\n",
    "        self.luck = luck\n",
    "    def __str__(self):\n",
    "        return str(self.__dict__)\n",
    "    def __repr__(self):\n",
    "        return str(self)\n",
    "    def toJSON(self):\n",
    "        return json.dumps(self, default=lambda o: o.__dict__,\n",
    "            sort_keys=True, indent=4)\n",
    "\n",
    "class DotaMatch:\n",
    "    def __init__(self,match_id,radiant_score,dire_score,duration,first_blood_time,picks_bans,radiant_team,dire_team):\n",
    "        self.match_id = match_id\n",
    "        self.radiant_score = radiant_score\n",
    "        self.dire_score = dire_score\n",
    "        self.duration = duration\n",
    "        self.first_blood_time = first_blood_time\n",
    "        self.pick_bans = picks_bans\n",
    "        self.radiant_team = radiant_team\n",
    "        self.dire_team = dire_team\n",
    "    def __str__(self):\n",
    "        return str(self.__dict__)\n",
    "    def __repr__(self):\n",
    "        return str(self)\n",
    "    def toJSON(self):\n",
    "        return json.dumps(self, default=lambda o: o.__dict__,\n",
    "            sort_keys=True, indent=4)\n",
    "\n",
    "def save_obj(obj, name):\n",
    "    with open('./Data/' + name + '.pkl', 'wb') as f:\n",
    "        pickle.dump(obj, f, pickle.HIGHEST_PROTOCOL)\n",
    "\n",
    "def load_obj(name):\n",
    "    with open('./Data/' + name + '.pkl', 'rb') as f:\n",
    "        return pickle.load(f)"
   ]
  },
  {
   "cell_type": "code",
   "execution_count": 7,
   "id": "processed-lecture",
   "metadata": {},
   "outputs": [],
   "source": [
    "# r = requests.get(url)\n",
    "r_all_matches_TI19 = requests.get(url_all_matches_TI19)"
   ]
  },
  {
   "cell_type": "code",
   "execution_count": 8,
   "id": "personalized-watson",
   "metadata": {},
   "outputs": [],
   "source": [
    "parsed_json_all_matches_TI19 = json.loads(r_all_matches_TI19.text)\n",
    "df_all_matches_TI19 = pd.json_normalize(parsed_json_all_matches_TI19)\n",
    "\n",
    "\n",
    "list_all_matches_TI19 = []"
   ]
  },
  {
   "cell_type": "code",
   "execution_count": 9,
   "id": "impaired-moscow",
   "metadata": {},
   "outputs": [
    {
     "name": "stdout",
     "output_type": "stream",
     "text": [
      "Number of Matches:  461\n"
     ]
    }
   ],
   "source": [
    "for match in parsed_json_all_matches_TI19['rows']:\n",
    "    if match['match_id'] not in list_all_matches_TI19:\n",
    "        list_all_matches_TI19.append(match['match_id'])\n",
    "print('Number of Matches: ', len(list_all_matches_TI19))"
   ]
  },
  {
   "cell_type": "code",
   "execution_count": 10,
   "id": "specific-think",
   "metadata": {},
   "outputs": [],
   "source": [
    "small_dataset = list_all_matches_TI19 #[:10]"
   ]
  },
  {
   "cell_type": "code",
   "execution_count": 11,
   "id": "manufactured-strike",
   "metadata": {},
   "outputs": [
    {
     "name": "stdout",
     "output_type": "stream",
     "text": [
      "Request count:  10\n",
      "Request count:  20\n",
      "Request count:  30\n",
      "Request count:  40\n",
      "Request count:  50\n",
      "Request count:  60\n",
      "Request count:  70\n",
      "Request count:  80\n",
      "Request count:  90\n",
      "Request count:  100\n",
      "Request count:  110\n",
      "Request count:  120\n",
      "Request count:  130\n",
      "Request count:  140\n",
      "Request count:  150\n",
      "Request count:  160\n",
      "Request count:  170\n",
      "Request count:  180\n",
      "Request count:  190\n",
      "Request count:  200\n",
      "Request count:  210\n",
      "Request count:  220\n",
      "Request count:  230\n",
      "Request count:  240\n",
      "Request count:  250\n",
      "Request count:  260\n",
      "Request count:  270\n",
      "Request count:  280\n",
      "Request count:  290\n",
      "Request count:  300\n",
      "Request count:  310\n",
      "Request count:  320\n",
      "Request count:  330\n",
      "Request count:  340\n",
      "Request count:  350\n",
      "Request count:  360\n",
      "Request count:  370\n",
      "Request count:  380\n",
      "Request count:  390\n",
      "Request count:  400\n",
      "Request count:  410\n",
      "Request count:  420\n",
      "Request count:  430\n",
      "Request count:  440\n",
      "Request count:  450\n",
      "Request count:  460\n"
     ]
    }
   ],
   "source": [
    "fetch_counter = 1\n",
    "matchdata_TI19 = []\n",
    "for match in small_dataset:\n",
    "    # r = requests.get(url)\n",
    "    matchdata_response = requests.get(url_base_match + str(match))\n",
    "    if matchdata_response.status_code != 200:\n",
    "        raise TypeError(\"Did not get 200 response code\")\n",
    "    matchdata_TI19.append(json.loads(matchdata_response.text))\n",
    "    if fetch_counter % 10 == 0:\n",
    "        print('Request count: ', fetch_counter)\n",
    "    fetch_counter +=1\n",
    "    time.sleep(1.5)\n"
   ]
  },
  {
   "cell_type": "code",
   "execution_count": 12,
   "id": "surface-litigation",
   "metadata": {},
   "outputs": [
    {
     "name": "stdout",
     "output_type": "stream",
     "text": [
      "Length raw:  461\n",
      "Length cleaned:  442\n",
      "number_games_per_season:  442\n",
      "number_games_per_team:  0.13122171945701358\n",
      "SD real:  0.1193368316929387\n",
      "SD skill:  0.1193368316929387\n",
      "SD luck:  3.469446951953614e-18\n",
      "Contribution luck:  2.907272551764005e-17\n",
      "Contribution skill:  1.0\n"
     ]
    }
   ],
   "source": [
    "clean_matchdata_TI19 = copy.deepcopy(matchdata_TI19)\n",
    "\n",
    "team_list_TI19 = []\n",
    "team_name_list = []\n",
    "\n",
    "real_arr = []\n",
    "skill_arr = []\n",
    "luck_arr = []\n",
    "\n",
    "# Create list of team names which are competing\n",
    "for match in matchdata_TI19:\n",
    "    if 'radiant_team' in match.keys():\n",
    "        if match['radiant_team']['name'] not in team_name_list:\n",
    "            team_name_list.append(match['radiant_team']['name'])\n",
    "    else:\n",
    "        clean_matchdata_TI19.remove(match)\n",
    "    if 'dire_team' in match.keys():\n",
    "        if match['dire_team']['name'] not in team_name_list:\n",
    "            team_name_list.append(match['dire_team']['name'])\n",
    "    else:\n",
    "        if match in clean_matchdata_TI19:\n",
    "            clean_matchdata_TI19.remove(match)\n",
    "\n",
    "# Store matchdata as file"
   ]
  },
  {
   "cell_type": "code",
   "execution_count": 53,
   "outputs": [],
   "source": [
    "type(clean_matchdata_TI19[0])\n",
    "save_obj(clean_matchdata_TI19, 'clean_matchdata_TI19')"
   ],
   "metadata": {
    "collapsed": false,
    "pycharm": {
     "name": "#%%\n"
    }
   }
  },
  {
   "cell_type": "code",
   "execution_count": null,
   "outputs": [],
   "source": [
    "# Uncomment in case data has been lost\n",
    "# clean_matchdata_TI19 = load_obj('clean_matchdata_TI19')"
   ],
   "metadata": {
    "collapsed": false,
    "pycharm": {
     "name": "#%%\n"
    }
   }
  },
  {
   "cell_type": "code",
   "execution_count": 55,
   "outputs": [
    {
     "name": "stdout",
     "output_type": "stream",
     "text": [
      "Length raw:  461\n",
      "Length cleaned:  442\n",
      "Length cleaned:  442\n"
     ]
    }
   ],
   "source": [
    "print('Length raw: ', len(matchdata_TI19))\n",
    "print('Length cleaned: ', len(clean_matchdata_TI19))\n",
    "\n",
    "# Create dota teams object from name list        \n",
    "for name in team_name_list:\n",
    "    team_list_TI19.append(DotaTeam(name, 0, 0, 0, 0, 0, 0))\n",
    "\n",
    "# Increment win / loss values from results\n",
    "for match in clean_matchdata_TI19:\n",
    "    if match['radiant_win']:\n",
    "        winner_team = match['radiant_team']['name']\n",
    "        looser_team = match['dire_team']['name']\n",
    "    else:\n",
    "        winner_team = match['dire_team']['name']\n",
    "        looser_team = match['radiant_team']['name']\n",
    "\n",
    "    for team in team_list_TI19:\n",
    "        if team.name == winner_team:\n",
    "            team.wins +=1\n",
    "        if team.name == looser_team:\n",
    "            team.losses +=1\n",
    "            \n",
    "# Summary numbers\n",
    "number_games_per_season = len(clean_matchdata_TI19)\n",
    "number_games_per_team = len(team_list_TI19)/len(clean_matchdata_TI19)\n",
    "\n",
    "print('number_games_per_season: ', number_games_per_season)\n",
    "print('number_games_per_team: ', number_games_per_team)\n",
    "\n",
    "            \n",
    "# Calculate winrate and cointoss\n",
    "for team in team_list_TI19:\n",
    "    team.winrate = team.wins/(team.wins + team.losses)\n",
    "    team.real = (number_games_per_season - team.wins) / (len(team_list_TI19)-1)\n",
    "    team.luck = math.sqrt(0.5*(0.5/number_games_per_season))\n",
    "    team.skill = team.real - team.luck\n",
    "    \n",
    "for team in team_list_TI19:\n",
    "    real_arr.append(team.real)\n",
    "    skill_arr.append(team.skill)\n",
    "    luck_arr.append(team.luck)\n",
    "    \n",
    "sd_real = np.std(real_arr)\n",
    "sd_skill = np.std(skill_arr)\n",
    "sd_luck = np.std(luck_arr)\n",
    "\n",
    "contribution_luck = sd_luck / sd_real\n",
    "contribution_skill = sd_skill / sd_real\n",
    "\n",
    "print('SD real: ', sd_real)\n",
    "print('SD skill: ', sd_skill)\n",
    "print('SD luck: ', sd_luck)\n",
    "print('Contribution luck: ', contribution_luck)\n",
    "print('Contribution skill: ', contribution_skill)\n"
   ],
   "metadata": {
    "collapsed": false,
    "pycharm": {
     "name": "#%%\n"
    }
   }
  },
  {
   "cell_type": "code",
   "execution_count": 43,
   "id": "supreme-export",
   "metadata": {
    "pycharm": {
     "name": "#%%\n"
    }
   },
   "outputs": [
    {
     "data": {
      "text/plain": "                   name  wins  losses   winrate     skill      real      luck\n0               BOOM ID     3       4  0.428571  7.677972  7.701754  0.023783\n1               Mineski    21      16  0.567568  7.362182  7.385965  0.023783\n2                Adroit     8       8  0.500000  7.590253  7.614035  0.023783\n3        Team Jinesbrus    12       7  0.631579  7.520077  7.543860  0.023783\n4             Team EVOS     2       5  0.285714  7.695516  7.719298  0.023783\n5            496 Gaming     3       4  0.428571  7.677972  7.701754  0.023783\n6            RESURGENCE     1       6  0.142857  7.713060  7.736842  0.023783\n7                AMPLFY     6       6  0.500000  7.625340  7.649123  0.023783\n8         Natus Vincere    19      17  0.527778  7.397270  7.421053  0.023783\n9        Gambit Esports     3       4  0.428571  7.677972  7.701754  0.023783\n10          Team Empire     5       7  0.416667  7.642884  7.666667  0.023783\n11          Team Spirit     1       6  0.142857  7.713060  7.736842  0.023783\n12       Winstrike Team     8       7  0.533333  7.590253  7.614035  0.023783\n13            FlyToMoon     2       5  0.285714  7.695516  7.719298  0.023783\n14        Nemiga Gaming     3       4  0.428571  7.677972  7.701754  0.023783\n15        Vega Squadron    11       5  0.687500  7.537621  7.561404  0.023783\n16          paiN Gaming     9       6  0.600000  7.572709  7.596491  0.023783\n17             Team Ham     3       4  0.428571  7.677972  7.701754  0.023783\n18      Infamous Gaming    24      15  0.615385  7.309551  7.333333  0.023783\n19     Thunder Predator     5       6  0.454545  7.642884  7.666667  0.023783\n20          SG e-sports     1       6  0.142857  7.713060  7.736842  0.023783\n21                Furia     2       5  0.285714  7.695516  7.719298  0.023783\n22       Gorillaz-Pride     2       5  0.285714  7.695516  7.719298  0.023783\n23              EGOBOYS     6       7  0.461538  7.625340  7.649123  0.023783\n24          Team Sirius     1       6  0.142857  7.713060  7.736842  0.023783\n25           Team Aster     4       5  0.444444  7.660428  7.684211  0.023783\n26  Royal Never Give Up    21      19  0.525000  7.362182  7.385965  0.023783\n27                EHOME     8       8  0.500000  7.590253  7.614035  0.023783\n28                CDEC     12       6  0.666667  7.520077  7.543860  0.023783\n29      INVICTUS GAMING     6       5  0.545455  7.625340  7.649123  0.023783\n30        Team Serenity     1       6  0.142857  7.713060  7.736842  0.023783\n31               Newbee    27      16  0.627907  7.256919  7.280702  0.023783\n32      The Final Tribe     8       6  0.571429  7.590253  7.614035  0.023783\n33             Chaos EC    11      18  0.379310  7.537621  7.561404  0.023783\n34     Team Singularity     3       3  0.500000  7.677972  7.701754  0.023783\n35        six eight two     1       1  0.500000  7.713060  7.736842  0.023783\n36         Hippomaniacs     4       5  0.444444  7.660428  7.684211  0.023783\n37           Anti-MagE-     3       3  0.500000  7.677972  7.701754  0.023783\n38                 Bald     0       4  0.000000  7.730603  7.754386  0.023783\n39              J.Storm    11       7  0.611111  7.537621  7.561404  0.023783\n40           beastcoast     7       6  0.538462  7.607796  7.631579  0.023783\n41    compLexity Gaming     2       5  0.285714  7.695516  7.719298  0.023783\n42          Team Xolotl     1       6  0.142857  7.713060  7.736842  0.023783\n43           Kookaburra     4       7  0.363636  7.660428  7.684211  0.023783\n44      Old Suck Gaming     0       6  0.000000  7.730603  7.754386  0.023783\n45         Black Sheep!     3       4  0.428571  7.677972  7.701754  0.023783\n46          KEEN GAMING     5      12  0.294118  7.642884  7.666667  0.023783\n47         TNC Predator    10      11  0.476190  7.555165  7.578947  0.023783\n48              PSG.LGD    19       7  0.730769  7.397270  7.421053  0.023783\n49          Team Liquid    18      14  0.562500  7.414814  7.438596  0.023783\n50          Team Secret    18      10  0.642857  7.414814  7.438596  0.023783\n51             Alliance     8       9  0.470588  7.590253  7.614035  0.023783\n52               Fnatic     7      10  0.411765  7.607796  7.631579  0.023783\n53        Evil Geniuses    12      12  0.500000  7.520077  7.543860  0.023783\n54          Vici Gaming    13      10  0.565217  7.502533  7.526316  0.023783\n55           Virtus.pro     8      12  0.400000  7.590253  7.614035  0.023783\n56    Ninjas in Pyjamas     3      13  0.187500  7.677972  7.701754  0.023783\n57                   OG    23       5  0.821429  7.327095  7.350877  0.023783",
      "text/html": "<div>\n<style scoped>\n    .dataframe tbody tr th:only-of-type {\n        vertical-align: middle;\n    }\n\n    .dataframe tbody tr th {\n        vertical-align: top;\n    }\n\n    .dataframe thead th {\n        text-align: right;\n    }\n</style>\n<table border=\"1\" class=\"dataframe\">\n  <thead>\n    <tr style=\"text-align: right;\">\n      <th></th>\n      <th>name</th>\n      <th>wins</th>\n      <th>losses</th>\n      <th>winrate</th>\n      <th>skill</th>\n      <th>real</th>\n      <th>luck</th>\n    </tr>\n  </thead>\n  <tbody>\n    <tr>\n      <th>0</th>\n      <td>BOOM ID</td>\n      <td>3</td>\n      <td>4</td>\n      <td>0.428571</td>\n      <td>7.677972</td>\n      <td>7.701754</td>\n      <td>0.023783</td>\n    </tr>\n    <tr>\n      <th>1</th>\n      <td>Mineski</td>\n      <td>21</td>\n      <td>16</td>\n      <td>0.567568</td>\n      <td>7.362182</td>\n      <td>7.385965</td>\n      <td>0.023783</td>\n    </tr>\n    <tr>\n      <th>2</th>\n      <td>Adroit</td>\n      <td>8</td>\n      <td>8</td>\n      <td>0.500000</td>\n      <td>7.590253</td>\n      <td>7.614035</td>\n      <td>0.023783</td>\n    </tr>\n    <tr>\n      <th>3</th>\n      <td>Team Jinesbrus</td>\n      <td>12</td>\n      <td>7</td>\n      <td>0.631579</td>\n      <td>7.520077</td>\n      <td>7.543860</td>\n      <td>0.023783</td>\n    </tr>\n    <tr>\n      <th>4</th>\n      <td>Team EVOS</td>\n      <td>2</td>\n      <td>5</td>\n      <td>0.285714</td>\n      <td>7.695516</td>\n      <td>7.719298</td>\n      <td>0.023783</td>\n    </tr>\n    <tr>\n      <th>5</th>\n      <td>496 Gaming</td>\n      <td>3</td>\n      <td>4</td>\n      <td>0.428571</td>\n      <td>7.677972</td>\n      <td>7.701754</td>\n      <td>0.023783</td>\n    </tr>\n    <tr>\n      <th>6</th>\n      <td>RESURGENCE</td>\n      <td>1</td>\n      <td>6</td>\n      <td>0.142857</td>\n      <td>7.713060</td>\n      <td>7.736842</td>\n      <td>0.023783</td>\n    </tr>\n    <tr>\n      <th>7</th>\n      <td>AMPLFY</td>\n      <td>6</td>\n      <td>6</td>\n      <td>0.500000</td>\n      <td>7.625340</td>\n      <td>7.649123</td>\n      <td>0.023783</td>\n    </tr>\n    <tr>\n      <th>8</th>\n      <td>Natus Vincere</td>\n      <td>19</td>\n      <td>17</td>\n      <td>0.527778</td>\n      <td>7.397270</td>\n      <td>7.421053</td>\n      <td>0.023783</td>\n    </tr>\n    <tr>\n      <th>9</th>\n      <td>Gambit Esports</td>\n      <td>3</td>\n      <td>4</td>\n      <td>0.428571</td>\n      <td>7.677972</td>\n      <td>7.701754</td>\n      <td>0.023783</td>\n    </tr>\n    <tr>\n      <th>10</th>\n      <td>Team Empire</td>\n      <td>5</td>\n      <td>7</td>\n      <td>0.416667</td>\n      <td>7.642884</td>\n      <td>7.666667</td>\n      <td>0.023783</td>\n    </tr>\n    <tr>\n      <th>11</th>\n      <td>Team Spirit</td>\n      <td>1</td>\n      <td>6</td>\n      <td>0.142857</td>\n      <td>7.713060</td>\n      <td>7.736842</td>\n      <td>0.023783</td>\n    </tr>\n    <tr>\n      <th>12</th>\n      <td>Winstrike Team</td>\n      <td>8</td>\n      <td>7</td>\n      <td>0.533333</td>\n      <td>7.590253</td>\n      <td>7.614035</td>\n      <td>0.023783</td>\n    </tr>\n    <tr>\n      <th>13</th>\n      <td>FlyToMoon</td>\n      <td>2</td>\n      <td>5</td>\n      <td>0.285714</td>\n      <td>7.695516</td>\n      <td>7.719298</td>\n      <td>0.023783</td>\n    </tr>\n    <tr>\n      <th>14</th>\n      <td>Nemiga Gaming</td>\n      <td>3</td>\n      <td>4</td>\n      <td>0.428571</td>\n      <td>7.677972</td>\n      <td>7.701754</td>\n      <td>0.023783</td>\n    </tr>\n    <tr>\n      <th>15</th>\n      <td>Vega Squadron</td>\n      <td>11</td>\n      <td>5</td>\n      <td>0.687500</td>\n      <td>7.537621</td>\n      <td>7.561404</td>\n      <td>0.023783</td>\n    </tr>\n    <tr>\n      <th>16</th>\n      <td>paiN Gaming</td>\n      <td>9</td>\n      <td>6</td>\n      <td>0.600000</td>\n      <td>7.572709</td>\n      <td>7.596491</td>\n      <td>0.023783</td>\n    </tr>\n    <tr>\n      <th>17</th>\n      <td>Team Ham</td>\n      <td>3</td>\n      <td>4</td>\n      <td>0.428571</td>\n      <td>7.677972</td>\n      <td>7.701754</td>\n      <td>0.023783</td>\n    </tr>\n    <tr>\n      <th>18</th>\n      <td>Infamous Gaming</td>\n      <td>24</td>\n      <td>15</td>\n      <td>0.615385</td>\n      <td>7.309551</td>\n      <td>7.333333</td>\n      <td>0.023783</td>\n    </tr>\n    <tr>\n      <th>19</th>\n      <td>Thunder Predator</td>\n      <td>5</td>\n      <td>6</td>\n      <td>0.454545</td>\n      <td>7.642884</td>\n      <td>7.666667</td>\n      <td>0.023783</td>\n    </tr>\n    <tr>\n      <th>20</th>\n      <td>SG e-sports</td>\n      <td>1</td>\n      <td>6</td>\n      <td>0.142857</td>\n      <td>7.713060</td>\n      <td>7.736842</td>\n      <td>0.023783</td>\n    </tr>\n    <tr>\n      <th>21</th>\n      <td>Furia</td>\n      <td>2</td>\n      <td>5</td>\n      <td>0.285714</td>\n      <td>7.695516</td>\n      <td>7.719298</td>\n      <td>0.023783</td>\n    </tr>\n    <tr>\n      <th>22</th>\n      <td>Gorillaz-Pride</td>\n      <td>2</td>\n      <td>5</td>\n      <td>0.285714</td>\n      <td>7.695516</td>\n      <td>7.719298</td>\n      <td>0.023783</td>\n    </tr>\n    <tr>\n      <th>23</th>\n      <td>EGOBOYS</td>\n      <td>6</td>\n      <td>7</td>\n      <td>0.461538</td>\n      <td>7.625340</td>\n      <td>7.649123</td>\n      <td>0.023783</td>\n    </tr>\n    <tr>\n      <th>24</th>\n      <td>Team Sirius</td>\n      <td>1</td>\n      <td>6</td>\n      <td>0.142857</td>\n      <td>7.713060</td>\n      <td>7.736842</td>\n      <td>0.023783</td>\n    </tr>\n    <tr>\n      <th>25</th>\n      <td>Team Aster</td>\n      <td>4</td>\n      <td>5</td>\n      <td>0.444444</td>\n      <td>7.660428</td>\n      <td>7.684211</td>\n      <td>0.023783</td>\n    </tr>\n    <tr>\n      <th>26</th>\n      <td>Royal Never Give Up</td>\n      <td>21</td>\n      <td>19</td>\n      <td>0.525000</td>\n      <td>7.362182</td>\n      <td>7.385965</td>\n      <td>0.023783</td>\n    </tr>\n    <tr>\n      <th>27</th>\n      <td>EHOME</td>\n      <td>8</td>\n      <td>8</td>\n      <td>0.500000</td>\n      <td>7.590253</td>\n      <td>7.614035</td>\n      <td>0.023783</td>\n    </tr>\n    <tr>\n      <th>28</th>\n      <td>CDEC</td>\n      <td>12</td>\n      <td>6</td>\n      <td>0.666667</td>\n      <td>7.520077</td>\n      <td>7.543860</td>\n      <td>0.023783</td>\n    </tr>\n    <tr>\n      <th>29</th>\n      <td>INVICTUS GAMING</td>\n      <td>6</td>\n      <td>5</td>\n      <td>0.545455</td>\n      <td>7.625340</td>\n      <td>7.649123</td>\n      <td>0.023783</td>\n    </tr>\n    <tr>\n      <th>30</th>\n      <td>Team Serenity</td>\n      <td>1</td>\n      <td>6</td>\n      <td>0.142857</td>\n      <td>7.713060</td>\n      <td>7.736842</td>\n      <td>0.023783</td>\n    </tr>\n    <tr>\n      <th>31</th>\n      <td>Newbee</td>\n      <td>27</td>\n      <td>16</td>\n      <td>0.627907</td>\n      <td>7.256919</td>\n      <td>7.280702</td>\n      <td>0.023783</td>\n    </tr>\n    <tr>\n      <th>32</th>\n      <td>The Final Tribe</td>\n      <td>8</td>\n      <td>6</td>\n      <td>0.571429</td>\n      <td>7.590253</td>\n      <td>7.614035</td>\n      <td>0.023783</td>\n    </tr>\n    <tr>\n      <th>33</th>\n      <td>Chaos EC</td>\n      <td>11</td>\n      <td>18</td>\n      <td>0.379310</td>\n      <td>7.537621</td>\n      <td>7.561404</td>\n      <td>0.023783</td>\n    </tr>\n    <tr>\n      <th>34</th>\n      <td>Team Singularity</td>\n      <td>3</td>\n      <td>3</td>\n      <td>0.500000</td>\n      <td>7.677972</td>\n      <td>7.701754</td>\n      <td>0.023783</td>\n    </tr>\n    <tr>\n      <th>35</th>\n      <td>six eight two</td>\n      <td>1</td>\n      <td>1</td>\n      <td>0.500000</td>\n      <td>7.713060</td>\n      <td>7.736842</td>\n      <td>0.023783</td>\n    </tr>\n    <tr>\n      <th>36</th>\n      <td>Hippomaniacs</td>\n      <td>4</td>\n      <td>5</td>\n      <td>0.444444</td>\n      <td>7.660428</td>\n      <td>7.684211</td>\n      <td>0.023783</td>\n    </tr>\n    <tr>\n      <th>37</th>\n      <td>Anti-MagE-</td>\n      <td>3</td>\n      <td>3</td>\n      <td>0.500000</td>\n      <td>7.677972</td>\n      <td>7.701754</td>\n      <td>0.023783</td>\n    </tr>\n    <tr>\n      <th>38</th>\n      <td>Bald</td>\n      <td>0</td>\n      <td>4</td>\n      <td>0.000000</td>\n      <td>7.730603</td>\n      <td>7.754386</td>\n      <td>0.023783</td>\n    </tr>\n    <tr>\n      <th>39</th>\n      <td>J.Storm</td>\n      <td>11</td>\n      <td>7</td>\n      <td>0.611111</td>\n      <td>7.537621</td>\n      <td>7.561404</td>\n      <td>0.023783</td>\n    </tr>\n    <tr>\n      <th>40</th>\n      <td>beastcoast</td>\n      <td>7</td>\n      <td>6</td>\n      <td>0.538462</td>\n      <td>7.607796</td>\n      <td>7.631579</td>\n      <td>0.023783</td>\n    </tr>\n    <tr>\n      <th>41</th>\n      <td>compLexity Gaming</td>\n      <td>2</td>\n      <td>5</td>\n      <td>0.285714</td>\n      <td>7.695516</td>\n      <td>7.719298</td>\n      <td>0.023783</td>\n    </tr>\n    <tr>\n      <th>42</th>\n      <td>Team Xolotl</td>\n      <td>1</td>\n      <td>6</td>\n      <td>0.142857</td>\n      <td>7.713060</td>\n      <td>7.736842</td>\n      <td>0.023783</td>\n    </tr>\n    <tr>\n      <th>43</th>\n      <td>Kookaburra</td>\n      <td>4</td>\n      <td>7</td>\n      <td>0.363636</td>\n      <td>7.660428</td>\n      <td>7.684211</td>\n      <td>0.023783</td>\n    </tr>\n    <tr>\n      <th>44</th>\n      <td>Old Suck Gaming</td>\n      <td>0</td>\n      <td>6</td>\n      <td>0.000000</td>\n      <td>7.730603</td>\n      <td>7.754386</td>\n      <td>0.023783</td>\n    </tr>\n    <tr>\n      <th>45</th>\n      <td>Black Sheep!</td>\n      <td>3</td>\n      <td>4</td>\n      <td>0.428571</td>\n      <td>7.677972</td>\n      <td>7.701754</td>\n      <td>0.023783</td>\n    </tr>\n    <tr>\n      <th>46</th>\n      <td>KEEN GAMING</td>\n      <td>5</td>\n      <td>12</td>\n      <td>0.294118</td>\n      <td>7.642884</td>\n      <td>7.666667</td>\n      <td>0.023783</td>\n    </tr>\n    <tr>\n      <th>47</th>\n      <td>TNC Predator</td>\n      <td>10</td>\n      <td>11</td>\n      <td>0.476190</td>\n      <td>7.555165</td>\n      <td>7.578947</td>\n      <td>0.023783</td>\n    </tr>\n    <tr>\n      <th>48</th>\n      <td>PSG.LGD</td>\n      <td>19</td>\n      <td>7</td>\n      <td>0.730769</td>\n      <td>7.397270</td>\n      <td>7.421053</td>\n      <td>0.023783</td>\n    </tr>\n    <tr>\n      <th>49</th>\n      <td>Team Liquid</td>\n      <td>18</td>\n      <td>14</td>\n      <td>0.562500</td>\n      <td>7.414814</td>\n      <td>7.438596</td>\n      <td>0.023783</td>\n    </tr>\n    <tr>\n      <th>50</th>\n      <td>Team Secret</td>\n      <td>18</td>\n      <td>10</td>\n      <td>0.642857</td>\n      <td>7.414814</td>\n      <td>7.438596</td>\n      <td>0.023783</td>\n    </tr>\n    <tr>\n      <th>51</th>\n      <td>Alliance</td>\n      <td>8</td>\n      <td>9</td>\n      <td>0.470588</td>\n      <td>7.590253</td>\n      <td>7.614035</td>\n      <td>0.023783</td>\n    </tr>\n    <tr>\n      <th>52</th>\n      <td>Fnatic</td>\n      <td>7</td>\n      <td>10</td>\n      <td>0.411765</td>\n      <td>7.607796</td>\n      <td>7.631579</td>\n      <td>0.023783</td>\n    </tr>\n    <tr>\n      <th>53</th>\n      <td>Evil Geniuses</td>\n      <td>12</td>\n      <td>12</td>\n      <td>0.500000</td>\n      <td>7.520077</td>\n      <td>7.543860</td>\n      <td>0.023783</td>\n    </tr>\n    <tr>\n      <th>54</th>\n      <td>Vici Gaming</td>\n      <td>13</td>\n      <td>10</td>\n      <td>0.565217</td>\n      <td>7.502533</td>\n      <td>7.526316</td>\n      <td>0.023783</td>\n    </tr>\n    <tr>\n      <th>55</th>\n      <td>Virtus.pro</td>\n      <td>8</td>\n      <td>12</td>\n      <td>0.400000</td>\n      <td>7.590253</td>\n      <td>7.614035</td>\n      <td>0.023783</td>\n    </tr>\n    <tr>\n      <th>56</th>\n      <td>Ninjas in Pyjamas</td>\n      <td>3</td>\n      <td>13</td>\n      <td>0.187500</td>\n      <td>7.677972</td>\n      <td>7.701754</td>\n      <td>0.023783</td>\n    </tr>\n    <tr>\n      <th>57</th>\n      <td>OG</td>\n      <td>23</td>\n      <td>5</td>\n      <td>0.821429</td>\n      <td>7.327095</td>\n      <td>7.350877</td>\n      <td>0.023783</td>\n    </tr>\n  </tbody>\n</table>\n</div>"
     },
     "execution_count": 43,
     "metadata": {},
     "output_type": "execute_result"
    }
   ],
   "source": [
    "df = pd.DataFrame([team.__dict__ for team in team_list_TI19])\n",
    "df"
   ]
  }
 ],
 "metadata": {
  "kernelspec": {
   "name": "pycharm-cd2e7666",
   "language": "python",
   "display_name": "PyCharm (Sport-Data-Analytics)"
  },
  "language_info": {
   "codemirror_mode": {
    "name": "ipython",
    "version": 3
   },
   "file_extension": ".py",
   "mimetype": "text/x-python",
   "name": "python",
   "nbconvert_exporter": "python",
   "pygments_lexer": "ipython3",
   "version": "3.8.6"
  }
 },
 "nbformat": 4,
 "nbformat_minor": 5
}