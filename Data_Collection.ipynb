{
 "cells": [
  {
   "cell_type": "markdown",
   "metadata": {},
   "source": [
    "# Default values for import"
   ]
  },
  {
   "cell_type": "code",
   "execution_count": 2,
   "metadata": {},
   "outputs": [],
   "source": [
    "import json\n",
    "import pickle\n",
    "import requests\n",
    "import time\n",
    "\n",
    "url_matches_19_20 = 'https://api.opendota.com/api/explorer?sql=SELECT%0A%20%20%20%20%20%20%20%20%0Amatches.match_id%2C%0Amatches.start_time%2C%0A((player_matches.player_slot%20%3C%20128)%20%3D%20matches.radiant_win)%20win%2C%0Aplayer_matches.hero_id%2C%0Aplayer_matches.account_id%2C%0Aleagues.name%20leaguename%0AFROM%20matches%0AJOIN%20match_patch%20using(match_id)%0AJOIN%20leagues%20using(leagueid)%0AJOIN%20player_matches%20using(match_id)%0AJOIN%20heroes%20on%20heroes.id%20%3D%20player_matches.hero_id%0ALEFT%20JOIN%20notable_players%20ON%20notable_players.account_id%20%3D%20player_matches.account_id%0ALEFT%20JOIN%20teams%20using(team_id)%0AWHERE%20TRUE%0AAND%20matches.start_time%20%3E%3D%20extract(epoch%20from%20timestamp%20%272019-12-31T23%3A00%3A00.000Z%27)%0AAND%20matches.start_time%20%3C%3D%20extract(epoch%20from%20timestamp%20%272020-12-31T23%3A00%3A00.000Z%27)%0AAND%20leagues.tier%20%3D%20%27professional%27%0AORDER%20BY%20matches.match_id%20NULLS%20LAST%0ALIMIT%20999999'\n",
    "url_base_match = 'https://api.opendota.com/api/matches/'\n",
    "\n",
    "class DotaTeam:\n",
    "    def __init__(self,name,wins,losses,winrate,skill,real,luck):\n",
    "        self.name = name\n",
    "        self.wins = wins\n",
    "        self.losses = losses\n",
    "        self.winrate = winrate\n",
    "        self.skill = skill\n",
    "        self.real = real\n",
    "        self.luck = luck\n",
    "    def __str__(self):\n",
    "        return str(self.__dict__)\n",
    "    def __repr__(self):\n",
    "        return str(self)\n",
    "    def toJSON(self):\n",
    "        return json.dumps(self, default=lambda o: o.__dict__,\n",
    "            sort_keys=True, indent=4)\n",
    "\n",
    "class DotaMatch:\n",
    "    def __init__(self,match_id,radiant_score,dire_score,duration,first_blood_time,picks_bans,radiant_team,dire_team):\n",
    "        self.match_id = match_id\n",
    "        self.radiant_score = radiant_score\n",
    "        self.dire_score = dire_score\n",
    "        self.duration = duration\n",
    "        self.first_blood_time = first_blood_time\n",
    "        self.pick_bans = picks_bans\n",
    "        self.radiant_team = radiant_team\n",
    "        self.dire_team = dire_team\n",
    "    def __str__(self):\n",
    "        return str(self.__dict__)\n",
    "    def __repr__(self):\n",
    "        return str(self)\n",
    "    def toJSON(self):\n",
    "        return json.dumps(self, default=lambda o: o.__dict__,\n",
    "            sort_keys=True, indent=4)\n",
    "\n",
    "def save_obj(obj, name):\n",
    "    with open('./Data/' + name + '.pkl', 'wb') as f:\n",
    "        pickle.dump(obj, f, pickle.HIGHEST_PROTOCOL)\n"
   ]
  },
  {
   "cell_type": "markdown",
   "metadata": {},
   "source": [
    "# Data collection for all Dota2 matches from 2019-2020 from the opendota API"
   ]
  },
  {
   "cell_type": "code",
   "execution_count": 3,
   "metadata": {
    "collapsed": false,
    "jupyter": {
     "outputs_hidden": false
    },
    "pycharm": {
     "name": "#%%\n"
    }
   },
   "outputs": [],
   "source": [
    "# Data Generation\n",
    "r_all_matches_19_20 = requests.get(url_matches_19_20)"
   ]
  },
  {
   "cell_type": "code",
   "execution_count": 4,
   "metadata": {
    "collapsed": false,
    "jupyter": {
     "outputs_hidden": false
    },
    "pycharm": {
     "name": "#%%\n"
    }
   },
   "outputs": [],
   "source": [
    "parsed_json_matches_19_20 = json.loads(r_all_matches_19_20.text)\n",
    "list_matches_19_20 = []"
   ]
  },
  {
   "cell_type": "code",
   "execution_count": null,
   "metadata": {
    "collapsed": false,
    "jupyter": {
     "outputs_hidden": false
    },
    "pycharm": {
     "is_executing": true,
     "name": "#%%\n"
    }
   },
   "outputs": [],
   "source": [
    "for match in parsed_json_matches_19_20['rows']:\n",
    "    if match['match_id'] not in list_matches_19_20:\n",
    "        list_matches_19_20.append(match['match_id'])\n",
    "print('Number of Matches: ', len(list_matches_19_20))"
   ]
  },
  {
   "cell_type": "code",
   "execution_count": null,
   "metadata": {
    "collapsed": false,
    "jupyter": {
     "outputs_hidden": false
    },
    "pycharm": {
     "name": "#%%\n"
    }
   },
   "outputs": [],
   "source": [
    "fetch_counter = 1\n",
    "matchdata_19_20 = []\n",
    "for match in list_matches_19_20:\n",
    "    matchdata_response = requests.get(url_base_match + str(match))\n",
    "    if matchdata_response.status_code == 200:\n",
    "        matchdata_19_20.append(json.loads(matchdata_response.text))\n",
    "        if fetch_counter % 100 == 0:\n",
    "            print('Request count: ', fetch_counter)\n",
    "        fetch_counter +=1\n",
    "        time.sleep(1.05)"
   ]
  },
  {
   "cell_type": "code",
   "execution_count": null,
   "metadata": {
    "collapsed": false,
    "jupyter": {
     "outputs_hidden": false
    },
    "pycharm": {
     "name": "#%%\n"
    }
   },
   "outputs": [],
   "source": [
    "save_obj(matchdata_19_20, 'matchdata_19_20')"
   ]
  }
 ],
 "metadata": {
  "kernelspec": {
   "display_name": "Python 3",
   "language": "python",
   "name": "python3"
  },
  "language_info": {
   "codemirror_mode": {
    "name": "ipython",
    "version": 3
   },
   "file_extension": ".py",
   "mimetype": "text/x-python",
   "name": "python",
   "nbconvert_exporter": "python",
   "pygments_lexer": "ipython3",
   "version": "3.8.6"
  }
 },
 "nbformat": 4,
 "nbformat_minor": 4
}
